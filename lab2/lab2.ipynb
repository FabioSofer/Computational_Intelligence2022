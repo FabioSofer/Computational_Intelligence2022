{
 "cells": [
  {
   "cell_type": "markdown",
   "metadata": {},
   "source": [
    "# Lab 2"
   ]
  },
  {
   "cell_type": "markdown",
   "metadata": {},
   "source": [
    "### Imports"
   ]
  },
  {
   "cell_type": "code",
   "execution_count": null,
   "metadata": {},
   "outputs": [],
   "source": [
    "import logging\n",
    "from collections import namedtuple\n",
    "from operator import index\n",
    "import random\n",
    "from matplotlib import pyplot as plt"
   ]
  },
  {
   "cell_type": "markdown",
   "metadata": {},
   "source": [
    "### Problem definition and constants"
   ]
  },
  {
   "cell_type": "code",
   "execution_count": null,
   "metadata": {},
   "outputs": [],
   "source": [
    "\n",
    "def problem(N, seed=None):\n",
    "    random.seed(seed)\n",
    "    return [\n",
    "        list(set(random.randint(0, N - 1) for n in range(random.randint(N // 5, N // 2))))\n",
    "            for n in range(random.randint(N, N * 5))\n",
    "    ]\n",
    " \n",
    "SEED=42\n",
    "\"\"\"\n",
    "Results found using:\n",
    "N -> POPULATION_SIZE, OFFSPRING_SIZE, NUM_GENERATIONS\n",
    "5 -> 80, 100, 100\n",
    "10 -> 80, 100, 200\n",
    "20 -> 800, 100, 1000\n",
    "100 -> 80, 100, 1000\n",
    "500 -> 10, 100, 1000\n",
    "\"\"\"\n",
    "N=[5, 10, 20, 100, 500, 1000]\n",
    "GOAL_N=4\n",
    "PROBLEM_SPACE= list(set(tuple(i) for i in problem(N[GOAL_N],seed=SEED)))\n",
    "PROBLEM_SIZE = len(PROBLEM_SPACE)\n",
    "POPULATION_SIZE = 10\n",
    "OFFSPRING_SIZE = 100\n",
    "NUM_GENERATIONS = 1000\n",
    "K = 3\n",
    "Individual = namedtuple(\"Individual\", [\"genome\", \"fitness\"])\n",
    "logging.getLogger().setLevel(logging.INFO)"
   ]
  },
  {
   "cell_type": "markdown",
   "metadata": {},
   "source": [
    "### Genetic functions"
   ]
  },
  {
   "cell_type": "code",
   "execution_count": null,
   "metadata": {},
   "outputs": [],
   "source": [
    "\n",
    "def fitnessFunc(genome):\n",
    "        # Compute in parallel the coverage and the length of the genome solution\n",
    "        tuple_set = set()\n",
    "        genome_lenght=0\n",
    "        for index,i in enumerate(genome):\n",
    "            if i==1:\n",
    "                tuple_set |= set(PROBLEM_SPACE[index])\n",
    "                genome_lenght+=len(PROBLEM_SPACE[index])\n",
    "        genome_coverage=len(tuple_set)\n",
    "        # Adding a penalty if not valid (coverage < 100%)\n",
    "        malus = 0\n",
    "        if genome_coverage != N[GOAL_N]:\n",
    "            malus = genome_lenght\n",
    "        return K*genome_coverage - genome_lenght - malus\n",
    "\n",
    "# Get the actual solution from the genome one\n",
    "def getPhenotype(genome):\n",
    "    phenotype=[]\n",
    "    for index,i in enumerate(genome): \n",
    "        if i==1:\n",
    "            phenotype.append(PROBLEM_SPACE[index])\n",
    "    return phenotype\n",
    "\n",
    "# Used to compute the coverage of a solution (called in the print)\n",
    "def coverage(genome):\n",
    "    coverage_set=set()\n",
    "    for index,i in enumerate(genome): \n",
    "        if i==1:\n",
    "            coverage_set|=set(PROBLEM_SPACE[index])\n",
    "    return len(coverage_set)\n",
    "\n",
    "# Select the best genome among n=tournament_size random individuals\n",
    "def tournament(population, tournament_size=2):\n",
    "    return max(random.choices(population, k=tournament_size), key=lambda i: i.fitness)\n",
    "\n",
    "def cross_over(g1, g2):\n",
    "    cut = random.randint(0, PROBLEM_SIZE)\n",
    "    son= g1[:cut] + g2[cut:]\n",
    "    return mutation(son)\n",
    "\n",
    "# Used to change a random gene, we also added the rounds parameter to specify the number of mutation\n",
    "def mutation(g,rounds=1):\n",
    "    for i in range(rounds):\n",
    "        point = random.randint(0, PROBLEM_SIZE - 1)\n",
    "        p=g[:point] + (1 - g[point],) + g[point + 1 :]\n",
    "    return p\n"
   ]
  },
  {
   "cell_type": "markdown",
   "metadata": {},
   "source": [
    "### Genetic Algorithm"
   ]
  },
  {
   "cell_type": "code",
   "execution_count": null,
   "metadata": {},
   "outputs": [],
   "source": [
    "\n",
    "population = list()\n",
    "\n",
    "for genome in [tuple([random.choice([1, 0]) for _ in range(PROBLEM_SIZE)]) for _ in range(POPULATION_SIZE)]:\n",
    "    population.append(Individual(genome, fitnessFunc(genome)))\n",
    "\n",
    "logging.debug(f\"init: pop_size={len(population)}; max={max(population, key=lambda i: i.fitness)[1]}\")\n",
    "\n",
    "fitness_log = [(0, i.fitness) for i in population]\n",
    "\n",
    "for g in range(NUM_GENERATIONS):\n",
    "    offspring = list()\n",
    "    for i in range(OFFSPRING_SIZE):\n",
    "        if random.random() < 0.8:\n",
    "            p = tournament(population)\n",
    "            o = mutation(p.genome,5)\n",
    "        else:\n",
    "            p1 = tournament(population)\n",
    "            p2 = tournament(population)\n",
    "            o = cross_over(p1.genome, p2.genome)\n",
    "        \n",
    "        f = fitnessFunc(o)\n",
    "        fitness_log.append((g + 1, f))\n",
    "        offspring.append(Individual(o, f))\n",
    "    population += offspring\n",
    "\n",
    "    population = sorted(population, key=lambda i: i.fitness, reverse=True)[:POPULATION_SIZE]\n",
    "\n",
    "individual = population[0]\n",
    "logging.info(f\"FITNESS :{fitnessFunc(individual.genome)}\\n COVERAGE: {coverage(individual.genome)} \\n LENGHT: {sum(len(element) for element in getPhenotype(individual.genome))}\")\n",
    "logging.info(f\"Fitness count {NUM_GENERATIONS * OFFSPRING_SIZE}\")\n"
   ]
  },
  {
   "cell_type": "markdown",
   "metadata": {},
   "source": [
    "### Plots"
   ]
  },
  {
   "cell_type": "code",
   "execution_count": null,
   "metadata": {},
   "outputs": [],
   "source": [
    "\n",
    "off_line = [max(f[1] for f in fitness_log if f[0] == x) / (x + 1) for x in range(NUM_GENERATIONS)]\n",
    "on_line = [max(f[1] for f in fitness_log if f[0] <= x) / (x + 1) for x in range(NUM_GENERATIONS)]\n",
    "gen_best = [max(f[1] for f in fitness_log if f[0] == x*10) for x in range(NUM_GENERATIONS//10)]\n",
    "\n",
    "plt.figure(figsize=(15, 6))\n",
    "plt.scatter([x for x, _ in fitness_log], [y for _, y in fitness_log], marker=\".\")\n",
    "plt.plot([x for x, _ in enumerate(gen_best)], [y for _, y in enumerate(gen_best)])\n",
    "plt.plot([x for x, _ in enumerate(on_line)], [y for _, y in enumerate(on_line)])\n",
    "plt.plot([x for x, _ in enumerate(off_line)], [y for _, y in enumerate(off_line)])"
   ]
  }
 ],
 "metadata": {
  "kernelspec": {
   "display_name": "Python 3.10.7 ('.venv': poetry)",
   "language": "python",
   "name": "python3"
  },
  "language_info": {
   "codemirror_mode": {
    "name": "ipython",
    "version": 3
   },
   "file_extension": ".py",
   "mimetype": "text/x-python",
   "name": "python",
   "nbconvert_exporter": "python",
   "pygments_lexer": "ipython3",
   "version": "3.10.7"
  },
  "orig_nbformat": 4,
  "vscode": {
   "interpreter": {
    "hash": "55ba9e9f377da4b122898c7da5dc65f5811df1165b58878575aa29f7eca42830"
   }
  }
 },
 "nbformat": 4,
 "nbformat_minor": 2
}
