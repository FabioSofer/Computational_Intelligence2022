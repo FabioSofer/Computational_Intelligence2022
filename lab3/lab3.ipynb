{
 "cells": [
  {
   "cell_type": "markdown",
   "metadata": {
    "pycharm": {
     "name": "#%% md\n"
    }
   },
   "source": [
    "Copyright **`(c)`** 2022 Giovanni Squillero `<squillero@polito.it>`  \n",
    "[`https://github.com/squillero/computational-intelligence`](https://github.com/squillero/computational-intelligence)  \n",
    "Free for personal or classroom use; see [`LICENSE.md`](https://github.com/squillero/computational-intelligence/blob/master/LICENSE.md) for details.  \n"
   ]
  },
  {
   "cell_type": "markdown",
   "metadata": {
    "pycharm": {
     "name": "#%%\n"
    }
   },
   "source": [
    "# Lab 3: Policy Search\n",
    "\n",
    "## Task\n",
    "\n",
    "Write agents able to play [*Nim*](https://en.wikipedia.org/wiki/Nim), with an arbitrary number of rows and an upper bound $k$ on the number of objects that can be removed in a turn (a.k.a., *subtraction game*).\n",
    "\n",
    "The player **taking the last object wins**.\n",
    "\n",
    "* Task3.1: An agent using fixed rules based on *nim-sum* (i.e., an *expert system*)\n",
    "* Task3.2: An agent using evolved rules\n",
    "* Task3.3: An agent using minmax\n",
    "* Task3.4: An agent using reinforcement learning\n",
    "\n",
    "## Instructions\n",
    "\n",
    "* Create the directory `lab3` inside the course repo \n",
    "* Put a `README.md` and your solution (all the files, code and auxiliary data if needed)\n",
    "\n",
    "## Notes\n",
    "\n",
    "* Working in group is not only allowed, but recommended (see: [Ubuntu](https://en.wikipedia.org/wiki/Ubuntu_philosophy) and [Cooperative Learning](https://files.eric.ed.gov/fulltext/EJ1096789.pdf)). Collaborations must be explicitly declared in the `README.md`.\n",
    "* [Yanking](https://www.emacswiki.org/emacs/KillingAndYanking) from the internet is allowed, but sources must be explicitly declared in the `README.md`.\n",
    "\n",
    "## Deadlines ([AoE](https://en.wikipedia.org/wiki/Anywhere_on_Earth))\n",
    "\n",
    "* Sunday, December 4th for Task3.1 and Task3.2\n",
    "* Sunday, December 11th for Task3.3 and Task3.4\n",
    "* Sunday, December 18th for all reviews"
   ]
  },
  {
   "cell_type": "code",
   "execution_count": 90,
   "metadata": {},
   "outputs": [],
   "source": [
    "import logging\n",
    "from collections import namedtuple\n",
    "import random\n",
    "from typing import Callable\n",
    "from copy import deepcopy\n",
    "from itertools import accumulate\n",
    "from operator import xor\n",
    "import math"
   ]
  },
  {
   "cell_type": "markdown",
   "metadata": {},
   "source": [
    "## The *Nim* and *Nimply* classes"
   ]
  },
  {
   "cell_type": "code",
   "execution_count": 91,
   "metadata": {},
   "outputs": [],
   "source": [
    "Nimply = namedtuple(\"Nimply\", \"row, num_objects\")"
   ]
  },
  {
   "cell_type": "code",
   "execution_count": 92,
   "metadata": {},
   "outputs": [],
   "source": [
    "class Nim:\n",
    "    def __init__(self, num_rows: int, k: int = None) -> None:\n",
    "        self._rows = [i * 2 + 1 for i in range(num_rows)]\n",
    "        self._k = k\n",
    "\n",
    "    def __bool__(self):\n",
    "        return sum(self._rows) > 0\n",
    "\n",
    "    def __str__(self):\n",
    "        return \"<\" + \" \".join(str(_) for _ in self._rows) + \">\"\n",
    "\n",
    "    @property\n",
    "    def rows(self) -> tuple:\n",
    "        return tuple(self._rows)\n",
    "\n",
    "    @property\n",
    "    def k(self) -> int:\n",
    "        return self._k\n",
    "\n",
    "    def nimming(self, ply: Nimply) -> None:\n",
    "        row, num_objects = ply\n",
    "        assert self._rows[row] >= num_objects\n",
    "        assert self._k is None or num_objects <= self._k\n",
    "        self._rows[row] -= num_objects"
   ]
  },
  {
   "cell_type": "markdown",
   "metadata": {},
   "source": [
    "## Sample (and silly) startegies "
   ]
  },
  {
   "cell_type": "code",
   "execution_count": 93,
   "metadata": {},
   "outputs": [],
   "source": [
    "def pure_random(state: Nim) -> Nimply:\n",
    "    row = random.choice([r for r, c in enumerate(state.rows) if c > 0])\n",
    "    num_objects = random.randint(1, state.rows[row])\n",
    "    return Nimply(row, num_objects)"
   ]
  },
  {
   "cell_type": "code",
   "execution_count": 94,
   "metadata": {},
   "outputs": [],
   "source": [
    "def gabriele(state: Nim) -> Nimply:\n",
    "    \"\"\"Pick always the maximum possible number of the lowest row\"\"\"\n",
    "    possible_moves = [(r, o) for r, c in enumerate(state.rows) for o in range(1, c + 1)]\n",
    "    return Nimply(*max(possible_moves, key=lambda m: (-m[0], m[1])))"
   ]
  },
  {
   "cell_type": "code",
   "execution_count": 95,
   "metadata": {},
   "outputs": [],
   "source": [
    "def nim_sum(state: Nim) -> int:\n",
    "    *_, result = accumulate(state.rows, xor)\n",
    "    return result\n",
    "\n",
    "\n",
    "def cook_status(state: Nim) -> dict:\n",
    "    cooked = dict()\n",
    "    cooked[\"possible_moves\"] = [\n",
    "        (r, o) for r, c in enumerate(state.rows) for o in range(1, c + 1) if state.k is None or o <= state.k\n",
    "    ]\n",
    "    cooked[\"active_rows_number\"] = sum(o > 0 for o in state.rows)\n",
    "    cooked[\"shortest_row\"] = min((x for x in enumerate(state.rows) if x[1] > 0), key=lambda y: y[1])[0]\n",
    "    cooked[\"longest_row\"] = max((x for x in enumerate(state.rows)), key=lambda y: y[1])[0]\n",
    "    cooked[\"nim_sum\"] = nim_sum(state)\n",
    "\n",
    "    brute_force = list()\n",
    "    for m in cooked[\"possible_moves\"]:\n",
    "        tmp = deepcopy(state)\n",
    "        tmp.nimming(m)\n",
    "        brute_force.append((m, nim_sum(tmp)))\n",
    "    cooked[\"brute_force\"] = brute_force\n",
    "\n",
    "    return cooked"
   ]
  },
  {
   "cell_type": "code",
   "execution_count": 96,
   "metadata": {},
   "outputs": [],
   "source": [
    "def optimal_startegy(state: Nim) -> Nimply:\n",
    "    data = cook_status(state)\n",
    "    return next((bf for bf in data[\"brute_force\"] if bf[1] == 0), random.choice(data[\"brute_force\"]))[0]"
   ]
  },
  {
   "cell_type": "code",
   "execution_count": 97,
   "metadata": {},
   "outputs": [],
   "source": [
    "def make_strategy(genome: dict) -> Callable:\n",
    "    def evolvable(state: Nim) -> Nimply:\n",
    "        data = cook_status(state)\n",
    "\n",
    "        if random.random() < genome[\"p\"]:\n",
    "            ply = Nimply(data[\"shortest_row\"], random.randint(1, state.rows[data[\"shortest_row\"]]))\n",
    "        else:\n",
    "            ply = Nimply(data[\"longest_row\"], random.randint(1, state.rows[data[\"longest_row\"]]))\n",
    "\n",
    "        return ply\n",
    "\n",
    "    return evolvable"
   ]
  },
  {
   "cell_type": "code",
   "execution_count": 98,
   "metadata": {},
   "outputs": [],
   "source": [
    "NUM_MATCHES = 100\n",
    "NIM_SIZE = 10\n",
    "\n",
    "\n",
    "def evaluate(strategy: Callable) -> float:\n",
    "    opponent = (strategy, gabriele)\n",
    "    won = 0\n",
    "\n",
    "    for m in range(NUM_MATCHES):\n",
    "        nim = Nim(NIM_SIZE)\n",
    "        player = 0\n",
    "        while nim:\n",
    "            ply = opponent[player](nim)\n",
    "            nim.nimming(ply)\n",
    "            player = 1 - player\n",
    "        if player == 1:\n",
    "            won += 1\n",
    "    return won / NUM_MATCHES"
   ]
  },
  {
   "cell_type": "code",
   "execution_count": 99,
   "metadata": {},
   "outputs": [
    {
     "data": {
      "text/plain": [
       "0.04"
      ]
     },
     "execution_count": 99,
     "metadata": {},
     "output_type": "execute_result"
    }
   ],
   "source": [
    "evaluate(make_strategy({\"p\": 0.9999}))"
   ]
  },
  {
   "cell_type": "markdown",
   "metadata": {},
   "source": [
    "## P2 -> Evolutionary Alg "
   ]
  },
  {
   "cell_type": "code",
   "execution_count": 100,
   "metadata": {},
   "outputs": [],
   "source": [
    "def make_evolutionary_strategy(genome: dict) -> Callable:\n",
    "    def evolvable(state: Nim) -> Nimply:\n",
    "        data = cook_status(state)\n",
    "        if random.random() < genome[\"p\"]:\n",
    "            #PRENDI TUTTO\n",
    "            rowChoice=random.choice([x[0] for x in enumerate(state.rows) if x[1]!=0])\n",
    "            #print(rowChoice)\n",
    "            ply=Nimply(rowChoice,state.rows[rowChoice])\n",
    "        else:\n",
    "            #PRENDI TUTTO -1\n",
    "            rowChoice=random.choice([x[0] for x in enumerate(state.rows) if x[1]!=0])\n",
    "            #print(rowChoice)\n",
    "            ply=Nimply(rowChoice,state.rows[rowChoice] if state.rows[rowChoice]==1 else state.rows[rowChoice]-1)\n",
    "        return ply\n",
    "\n",
    "    return evolvable"
   ]
  },
  {
   "cell_type": "code",
   "execution_count": 101,
   "metadata": {},
   "outputs": [
    {
     "name": "stdout",
     "output_type": "stream",
     "text": [
      "Round 1: WR:0.47 with P:0.55\n",
      "Round 2: WR:0.42 with P:0.6125\n",
      "Round 3: WR:0.41 with P:0.5625\n",
      "Round 4: WR:0.52 with P:0.6125\n",
      "Round 5: WR:0.42 with P:0.675\n",
      "Round 6: WR:0.49 with P:0.625\n",
      "Round 7: WR:0.51 with P:0.5625\n",
      "Round 8: WR:0.5 with P:0.484375\n",
      "Round 9: WR:0.48 with P:0.534375\n",
      "Round 10: WR:0.38 with P:0.48437500000000006\n",
      "Round 11: WR:0.42 with P:0.534375\n",
      "Round 12: WR:0.4 with P:0.596875\n",
      "Round 13: WR:0.43 with P:0.546875\n",
      "Round 14: WR:0.36 with P:0.484375\n",
      "Round 15: WR:0.47 with P:0.534375\n",
      "Round 16: WR:0.35 with P:0.596875\n",
      "Round 17: WR:0.5 with P:0.546875\n",
      "Round 18: WR:0.42 with P:0.484375\n",
      "Round 19: WR:0.45 with P:0.534375\n",
      "Round 20: WR:0.42 with P:0.596875\n",
      "Round 21: WR:0.42 with P:0.546875\n",
      "Round 22: WR:0.58 with P:0.596875\n",
      "Round 23: WR:0.54 with P:0.659375\n",
      "Round 24: WR:0.53 with P:0.609375\n",
      "Round 25: WR:0.48 with P:0.659375\n",
      "Round 26: WR:0.43 with P:0.609375\n",
      "Round 27: WR:0.43 with P:0.659375\n",
      "Round 28: WR:0.53 with P:0.609375\n",
      "Round 29: WR:0.41 with P:0.546875\n",
      "Round 30: WR:0.45 with P:0.596875\n",
      "Round 31: WR:0.4 with P:0.659375\n",
      "Round 32: WR:0.43 with P:0.609375\n",
      "Round 33: WR:0.46 with P:0.546875\n",
      "Round 34: WR:0.56 with P:0.46875\n",
      "Round 35: WR:0.47 with P:0.37109375\n",
      "Round 36: WR:0.35 with P:0.42109375\n",
      "Round 37: WR:0.36 with P:0.37109375\n",
      "Round 38: WR:0.45 with P:0.30859375\n",
      "Round 39: WR:0.41 with P:0.23046875\n",
      "Round 40: WR:0.37 with P:0.28046875\n",
      "Round 41: WR:0.4 with P:0.23046875\n",
      "Round 42: WR:0.48 with P:0.16796875\n",
      "Round 43: WR:0.43 with P:0.08984375\n",
      "Round 44: WR:0.39 with P:0.13984375\n",
      "Round 45: WR:0.35 with P:0.08984374999999999\n",
      "Round 46: WR:0.43 with P:0.13984375\n",
      "Round 47: WR:0.36 with P:0.20234375\n",
      "Round 48: WR:0.4 with P:0.15234375\n",
      "Round 49: WR:0.39 with P:0.08984375\n",
      "Round 50: WR:0.5 with P:0.13984375\n",
      "Round 51: WR:0.39 with P:0.20234375\n",
      "Round 52: WR:0.43 with P:0.15234375\n",
      "Round 53: WR:0.43 with P:0.08984375\n",
      "Round 54: WR:0.32 with P:0.13984375\n",
      "Round 55: WR:0.48 with P:0.08984374999999999\n",
      "Round 56: WR:0.51 with P:0.027343749999999986\n",
      "Round 57: WR:0.45 with P:-0.050781250000000014\n",
      "Round 58: WR:0.45 with P:-0.0007812500000000111\n",
      "Round 59: WR:0.34 with P:-0.050781250000000014\n",
      "Round 60: WR:0.46 with P:-0.0007812500000000111\n",
      "Round 61: WR:0.43 with P:0.06171874999999999\n",
      "Round 62: WR:0.34 with P:0.011718749999999986\n",
      "Round 63: WR:0.44 with P:0.06171874999999999\n",
      "Round 64: WR:0.46 with P:0.12421874999999999\n",
      "Round 65: WR:0.46 with P:0.20234375\n",
      "Round 66: WR:0.36 with P:0.15234375\n",
      "Round 67: WR:0.36 with P:0.20234375\n",
      "Round 68: WR:0.42 with P:0.15234375\n",
      "Round 69: WR:0.32 with P:0.08984375\n",
      "Round 70: WR:0.35 with P:0.13984375\n",
      "Round 71: WR:0.38 with P:0.20234375\n",
      "Round 72: WR:0.35 with P:0.28046875\n"
     ]
    },
    {
     "ename": "KeyboardInterrupt",
     "evalue": "",
     "output_type": "error",
     "traceback": [
      "\u001b[0;31m---------------------------------------------------------------------------\u001b[0m",
      "\u001b[0;31mKeyboardInterrupt\u001b[0m                         Traceback (most recent call last)",
      "Cell \u001b[0;32mIn [101], line 19\u001b[0m\n\u001b[1;32m     16\u001b[0m         prevWR\u001b[39m=\u001b[39mwr\n\u001b[1;32m     17\u001b[0m         \u001b[39mprint\u001b[39m(\u001b[39mf\u001b[39m\u001b[39m\"\u001b[39m\u001b[39mRound \u001b[39m\u001b[39m{\u001b[39;00mi\u001b[39m+\u001b[39m\u001b[39m1\u001b[39m\u001b[39m}\u001b[39;00m\u001b[39m: WR:\u001b[39m\u001b[39m{\u001b[39;00mwr\u001b[39m}\u001b[39;00m\u001b[39m with P:\u001b[39m\u001b[39m{\u001b[39;00mgenome[\u001b[39m'\u001b[39m\u001b[39mp\u001b[39m\u001b[39m'\u001b[39m]\u001b[39m}\u001b[39;00m\u001b[39m\"\u001b[39m)\n\u001b[0;32m---> 19\u001b[0m evolve(make_evolutionary_strategy)\n",
      "Cell \u001b[0;32mIn [101], line 11\u001b[0m, in \u001b[0;36mevolve\u001b[0;34m(strat)\u001b[0m\n\u001b[1;32m      9\u001b[0m genome[\u001b[39m\"\u001b[39m\u001b[39mp\u001b[39m\u001b[39m\"\u001b[39m]\u001b[39m+\u001b[39m\u001b[39m=\u001b[39mdirection\n\u001b[1;32m     10\u001b[0m newStrat\u001b[39m=\u001b[39mstrat(genome)\n\u001b[0;32m---> 11\u001b[0m wr\u001b[39m=\u001b[39mevaluate(newStrat)\n\u001b[1;32m     12\u001b[0m \u001b[39mif\u001b[39;00m(prevWR\u001b[39m<\u001b[39mwr):\n\u001b[1;32m     13\u001b[0m     direction\u001b[39m*\u001b[39m\u001b[39m=\u001b[39m\u001b[39m1.25\u001b[39m\n",
      "Cell \u001b[0;32mIn [98], line 13\u001b[0m, in \u001b[0;36mevaluate\u001b[0;34m(strategy)\u001b[0m\n\u001b[1;32m     11\u001b[0m player \u001b[39m=\u001b[39m \u001b[39m0\u001b[39m\n\u001b[1;32m     12\u001b[0m \u001b[39mwhile\u001b[39;00m nim:\n\u001b[0;32m---> 13\u001b[0m     ply \u001b[39m=\u001b[39m opponent[player](nim)\n\u001b[1;32m     14\u001b[0m     nim\u001b[39m.\u001b[39mnimming(ply)\n\u001b[1;32m     15\u001b[0m     player \u001b[39m=\u001b[39m \u001b[39m1\u001b[39m \u001b[39m-\u001b[39m player\n",
      "Cell \u001b[0;32mIn [100], line 3\u001b[0m, in \u001b[0;36mmake_evolutionary_strategy.<locals>.evolvable\u001b[0;34m(state)\u001b[0m\n\u001b[1;32m      2\u001b[0m \u001b[39mdef\u001b[39;00m \u001b[39mevolvable\u001b[39m(state: Nim) \u001b[39m-\u001b[39m\u001b[39m>\u001b[39m Nimply:\n\u001b[0;32m----> 3\u001b[0m     data \u001b[39m=\u001b[39m cook_status(state)\n\u001b[1;32m      4\u001b[0m     \u001b[39mif\u001b[39;00m random\u001b[39m.\u001b[39mrandom() \u001b[39m<\u001b[39m genome[\u001b[39m\"\u001b[39m\u001b[39mp\u001b[39m\u001b[39m\"\u001b[39m]:\n\u001b[1;32m      5\u001b[0m         \u001b[39m#PRENDI TUTTO\u001b[39;00m\n\u001b[1;32m      6\u001b[0m         rowChoice\u001b[39m=\u001b[39mrandom\u001b[39m.\u001b[39mchoice([x[\u001b[39m0\u001b[39m] \u001b[39mfor\u001b[39;00m x \u001b[39min\u001b[39;00m \u001b[39menumerate\u001b[39m(state\u001b[39m.\u001b[39mrows) \u001b[39mif\u001b[39;00m x[\u001b[39m1\u001b[39m]\u001b[39m!=\u001b[39m\u001b[39m0\u001b[39m])\n",
      "Cell \u001b[0;32mIn [95], line 18\u001b[0m, in \u001b[0;36mcook_status\u001b[0;34m(state)\u001b[0m\n\u001b[1;32m     16\u001b[0m brute_force \u001b[39m=\u001b[39m \u001b[39mlist\u001b[39m()\n\u001b[1;32m     17\u001b[0m \u001b[39mfor\u001b[39;00m m \u001b[39min\u001b[39;00m cooked[\u001b[39m\"\u001b[39m\u001b[39mpossible_moves\u001b[39m\u001b[39m\"\u001b[39m]:\n\u001b[0;32m---> 18\u001b[0m     tmp \u001b[39m=\u001b[39m deepcopy(state)\n\u001b[1;32m     19\u001b[0m     tmp\u001b[39m.\u001b[39mnimming(m)\n\u001b[1;32m     20\u001b[0m     brute_force\u001b[39m.\u001b[39mappend((m, nim_sum(tmp)))\n",
      "File \u001b[0;32m/usr/local/Cellar/python@3.10/3.10.8/Frameworks/Python.framework/Versions/3.10/lib/python3.10/copy.py:128\u001b[0m, in \u001b[0;36mdeepcopy\u001b[0;34m(x, memo, _nil)\u001b[0m\n\u001b[1;32m    124\u001b[0m     d[PyStringMap] \u001b[39m=\u001b[39m PyStringMap\u001b[39m.\u001b[39mcopy\n\u001b[1;32m    126\u001b[0m \u001b[39mdel\u001b[39;00m d, t\n\u001b[0;32m--> 128\u001b[0m \u001b[39mdef\u001b[39;00m \u001b[39mdeepcopy\u001b[39m(x, memo\u001b[39m=\u001b[39m\u001b[39mNone\u001b[39;00m, _nil\u001b[39m=\u001b[39m[]):\n\u001b[1;32m    129\u001b[0m     \u001b[39m\"\"\"Deep copy operation on arbitrary Python objects.\u001b[39;00m\n\u001b[1;32m    130\u001b[0m \n\u001b[1;32m    131\u001b[0m \u001b[39m    See the module's __doc__ string for more info.\u001b[39;00m\n\u001b[1;32m    132\u001b[0m \u001b[39m    \"\"\"\u001b[39;00m\n\u001b[1;32m    134\u001b[0m     \u001b[39mif\u001b[39;00m memo \u001b[39mis\u001b[39;00m \u001b[39mNone\u001b[39;00m:\n",
      "\u001b[0;31mKeyboardInterrupt\u001b[0m: "
     ]
    }
   ],
   "source": [
    "NUM_GEN=100\n",
    "\n",
    "\n",
    "def evolve(strat:Callable):\n",
    "    genome={\"p\":0.5}\n",
    "    prevWR=evaluate(strat(genome))\n",
    "    direction=+0.05\n",
    "    for i in range(NUM_GEN):\n",
    "        genome[\"p\"]+=direction\n",
    "        newStrat=strat(genome)\n",
    "        wr=evaluate(newStrat)\n",
    "        if(prevWR<wr):\n",
    "            direction*=1.25\n",
    "        else :\n",
    "            direction=-0.05*(direction/abs(direction)) #reset to 0.05 with flipped sign\n",
    "        prevWR=wr\n",
    "        print(f\"Round {i+1}: WR:{wr} with P:{genome['p']}\")\n",
    "            \n",
    "evolve(make_evolutionary_strategy)"
   ]
  },
  {
   "cell_type": "markdown",
   "metadata": {},
   "source": [
    "## Oversimplified match"
   ]
  },
  {
   "cell_type": "code",
   "execution_count": null,
   "metadata": {},
   "outputs": [
    {
     "name": "stderr",
     "output_type": "stream",
     "text": [
      "DEBUG:root:status: Initial board  -> <1 3 5 7 9 11 13 15 17 19 21>\n",
      "DEBUG:root:status: After player 0 -> <1 3 5 7 9 11 13 15 17 19 4>\n",
      "DEBUG:root:status: After player 1 -> <1 3 3 7 9 11 13 15 17 19 4>\n",
      "DEBUG:root:status: After player 0 -> <1 3 3 7 9 11 13 15 17 2 4>\n",
      "DEBUG:root:status: After player 1 -> <1 3 3 7 9 11 13 15 0 2 4>\n",
      "DEBUG:root:status: After player 0 -> <1 3 3 7 9 11 13 2 0 2 4>\n",
      "DEBUG:root:status: After player 1 -> <1 3 3 7 4 11 13 2 0 2 4>\n",
      "DEBUG:root:status: After player 0 -> <1 3 3 7 4 11 8 2 0 2 4>\n",
      "DEBUG:root:status: After player 1 -> <1 3 3 2 4 11 8 2 0 2 4>\n",
      "DEBUG:root:status: After player 0 -> <0 3 3 2 4 11 8 2 0 2 4>\n",
      "DEBUG:root:status: After player 1 -> <0 2 3 2 4 11 8 2 0 2 4>\n",
      "DEBUG:root:status: After player 0 -> <0 2 3 2 4 3 8 2 0 2 4>\n",
      "DEBUG:root:status: After player 1 -> <0 2 3 2 4 3 0 2 0 2 4>\n",
      "DEBUG:root:status: After player 0 -> <0 2 3 2 2 3 0 2 0 2 4>\n",
      "DEBUG:root:status: After player 1 -> <0 2 3 2 2 3 0 2 0 2 2>\n",
      "DEBUG:root:status: After player 0 -> <0 2 1 2 2 3 0 2 0 2 2>\n",
      "DEBUG:root:status: After player 1 -> <0 0 1 2 2 3 0 2 0 2 2>\n",
      "DEBUG:root:status: After player 0 -> <0 0 1 2 2 0 0 2 0 2 2>\n",
      "DEBUG:root:status: After player 1 -> <0 0 1 1 2 0 0 2 0 2 2>\n",
      "DEBUG:root:status: After player 0 -> <0 0 1 1 0 0 0 2 0 2 2>\n",
      "DEBUG:root:status: After player 1 -> <0 0 1 1 0 0 0 0 0 2 2>\n",
      "DEBUG:root:status: After player 0 -> <0 0 0 1 0 0 0 0 0 2 2>\n",
      "DEBUG:root:status: After player 1 -> <0 0 0 0 0 0 0 0 0 2 2>\n",
      "DEBUG:root:status: After player 0 -> <0 0 0 0 0 0 0 0 0 1 2>\n",
      "DEBUG:root:status: After player 1 -> <0 0 0 0 0 0 0 0 0 1 1>\n",
      "DEBUG:root:status: After player 0 -> <0 0 0 0 0 0 0 0 0 0 1>\n",
      "DEBUG:root:status: After player 1 -> <0 0 0 0 0 0 0 0 0 0 0>\n",
      "INFO:root:status: Player 1 won!\n"
     ]
    }
   ],
   "source": [
    "logging.getLogger().setLevel(logging.DEBUG)\n",
    "\n",
    "strategy = (make_strategy({\"p\": 0.1}), optimal_startegy)\n",
    "\n",
    "nim = Nim(11)\n",
    "logging.debug(f\"status: Initial board  -> {nim}\")\n",
    "player = 0\n",
    "while nim:\n",
    "    ply = strategy[player](nim)\n",
    "    nim.nimming(ply)\n",
    "    logging.debug(f\"status: After player {player} -> {nim}\")\n",
    "    player = 1 - player\n",
    "winner = 1 - player\n",
    "logging.info(f\"status: Player {winner} won!\")"
   ]
  }
 ],
 "metadata": {
  "kernelspec": {
   "display_name": "Python 3.10.8 ('.venv': poetry)",
   "language": "python",
   "name": "python3"
  },
  "language_info": {
   "codemirror_mode": {
    "name": "ipython",
    "version": 3
   },
   "file_extension": ".py",
   "mimetype": "text/x-python",
   "name": "python",
   "nbconvert_exporter": "python",
   "pygments_lexer": "ipython3",
   "version": "3.10.8"
  },
  "vscode": {
   "interpreter": {
    "hash": "55ba9e9f377da4b122898c7da5dc65f5811df1165b58878575aa29f7eca42830"
   }
  }
 },
 "nbformat": 4,
 "nbformat_minor": 2
}
