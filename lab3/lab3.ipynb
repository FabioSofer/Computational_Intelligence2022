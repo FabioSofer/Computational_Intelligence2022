{
 "cells": [
  {
   "cell_type": "markdown",
   "metadata": {
    "pycharm": {
     "name": "#%% md\n"
    }
   },
   "source": [
    "Copyright **`(c)`** 2022 Giovanni Squillero `<squillero@polito.it>`  \n",
    "[`https://github.com/squillero/computational-intelligence`](https://github.com/squillero/computational-intelligence)  \n",
    "Free for personal or classroom use; see [`LICENSE.md`](https://github.com/squillero/computational-intelligence/blob/master/LICENSE.md) for details.  \n"
   ]
  },
  {
   "cell_type": "markdown",
   "metadata": {
    "pycharm": {
     "name": "#%%\n"
    }
   },
   "source": [
    "# Lab 3: Policy Search\n",
    "\n",
    "## Task\n",
    "\n",
    "Write agents able to play [*Nim*](https://en.wikipedia.org/wiki/Nim), with an arbitrary number of rows and an upper bound $k$ on the number of objects that can be removed in a turn (a.k.a., *subtraction game*).\n",
    "\n",
    "The player **taking the last object wins**.\n",
    "\n",
    "* Task3.1: An agent using fixed rules based on *nim-sum* (i.e., an *expert system*)\n",
    "* Task3.2: An agent using evolved rules\n",
    "* Task3.3: An agent using minmax\n",
    "* Task3.4: An agent using reinforcement learning\n",
    "\n",
    "## Instructions\n",
    "\n",
    "* Create the directory `lab3` inside the course repo \n",
    "* Put a `README.md` and your solution (all the files, code and auxiliary data if needed)\n",
    "\n",
    "## Notes\n",
    "\n",
    "* Working in group is not only allowed, but recommended (see: [Ubuntu](https://en.wikipedia.org/wiki/Ubuntu_philosophy) and [Cooperative Learning](https://files.eric.ed.gov/fulltext/EJ1096789.pdf)). Collaborations must be explicitly declared in the `README.md`.\n",
    "* [Yanking](https://www.emacswiki.org/emacs/KillingAndYanking) from the internet is allowed, but sources must be explicitly declared in the `README.md`.\n",
    "\n",
    "## Deadlines ([AoE](https://en.wikipedia.org/wiki/Anywhere_on_Earth))\n",
    "\n",
    "* Sunday, December 4th for Task3.1 and Task3.2\n",
    "* Sunday, December 11th for Task3.3 and Task3.4\n",
    "* Sunday, December 18th for all reviews"
   ]
  },
  {
   "cell_type": "code",
   "execution_count": 243,
   "metadata": {},
   "outputs": [],
   "source": [
    "import logging\n",
    "from collections import namedtuple\n",
    "import random\n",
    "from typing import Callable\n",
    "from copy import deepcopy\n",
    "from itertools import accumulate\n",
    "from operator import xor\n",
    "import math"
   ]
  },
  {
   "cell_type": "markdown",
   "metadata": {},
   "source": [
    "## The *Nim* and *Nimply* classes"
   ]
  },
  {
   "cell_type": "code",
   "execution_count": 244,
   "metadata": {},
   "outputs": [],
   "source": [
    "Nimply = namedtuple(\"Nimply\", \"row, num_objects\")"
   ]
  },
  {
   "cell_type": "code",
   "execution_count": 245,
   "metadata": {},
   "outputs": [],
   "source": [
    "class Nim:\n",
    "    def __init__(self, num_rows: int, k: int = None) -> None:\n",
    "        self._rows = [i * 2 + 1 for i in range(num_rows)]\n",
    "        self._k = k\n",
    "\n",
    "    def __bool__(self):\n",
    "        return sum(self._rows) > 0\n",
    "\n",
    "    def __str__(self):\n",
    "        return \"<\" + \" \".join(str(_) for _ in self._rows) + \">\"\n",
    "\n",
    "    @property\n",
    "    def rows(self) -> tuple:\n",
    "        return tuple(self._rows)\n",
    "\n",
    "    @property\n",
    "    def k(self) -> int:\n",
    "        return self._k\n",
    "\n",
    "    def nimming(self, ply: Nimply) -> None:\n",
    "        row, num_objects = ply\n",
    "        assert self._rows[row] >= num_objects\n",
    "        assert self._k is None or num_objects <= self._k\n",
    "        self._rows[row] -= num_objects"
   ]
  },
  {
   "cell_type": "markdown",
   "metadata": {},
   "source": [
    "## Sample (and silly) startegies "
   ]
  },
  {
   "cell_type": "code",
   "execution_count": 246,
   "metadata": {},
   "outputs": [],
   "source": [
    "def pure_random(state: Nim) -> Nimply:\n",
    "    row = random.choice([r for r, c in enumerate(state.rows) if c > 0])\n",
    "    num_objects = random.randint(1, state.rows[row])\n",
    "    return Nimply(row, num_objects)"
   ]
  },
  {
   "cell_type": "code",
   "execution_count": 247,
   "metadata": {},
   "outputs": [],
   "source": [
    "def gabriele(state: Nim) -> Nimply:\n",
    "    \"\"\"Pick always the maximum possible number of the lowest row\"\"\"\n",
    "    possible_moves = [(r, o) for r, c in enumerate(state.rows) for o in range(1, c + 1)]\n",
    "    return Nimply(*max(possible_moves, key=lambda m: (-m[0], m[1])))"
   ]
  },
  {
   "cell_type": "code",
   "execution_count": 248,
   "metadata": {},
   "outputs": [],
   "source": [
    "def nim_sum(state: Nim) -> int:\n",
    "    *_, result = accumulate(state.rows, xor)\n",
    "    return result\n",
    "\n",
    "\n",
    "def cook_status(state: Nim) -> dict:\n",
    "    cooked = dict()\n",
    "    cooked[\"possible_moves\"] = [\n",
    "        (r, o) for r, c in enumerate(state.rows) for o in range(1, c + 1) if state.k is None or o <= state.k\n",
    "    ]\n",
    "    cooked[\"active_rows_number\"] = sum(o > 0 for o in state.rows)\n",
    "    cooked[\"shortest_row\"] = min((x for x in enumerate(state.rows) if x[1] > 0), key=lambda y: y[1])[0]\n",
    "    cooked[\"longest_row\"] = max((x for x in enumerate(state.rows)), key=lambda y: y[1])[0]\n",
    "    '''cooked[\"nim_sum\"] = nim_sum(state)\n",
    "\n",
    "    brute_force = list()\n",
    "    for m in cooked[\"possible_moves\"]:\n",
    "        tmp = deepcopy(state)\n",
    "        tmp.nimming(m)\n",
    "        brute_force.append((m, nim_sum(tmp)))\n",
    "    cooked[\"brute_force\"] = brute_force\n",
    "    '''\n",
    "    return cooked"
   ]
  },
  {
   "cell_type": "code",
   "execution_count": 249,
   "metadata": {},
   "outputs": [],
   "source": [
    "def optimal_startegy(state: Nim) -> Nimply:\n",
    "    data = cook_status(state)\n",
    "    return next((bf for bf in data[\"brute_force\"] if bf[1] == 0), random.choice(data[\"brute_force\"]))[0]"
   ]
  },
  {
   "cell_type": "code",
   "execution_count": 250,
   "metadata": {},
   "outputs": [],
   "source": [
    "def make_strategy(genome: dict) -> Callable:\n",
    "    def evolvable(state: Nim) -> Nimply:\n",
    "        data = cook_status(state)\n",
    "\n",
    "        if random.random() < genome[\"p\"]:\n",
    "            ply = Nimply(data[\"shortest_row\"], random.randint(1, state.rows[data[\"shortest_row\"]]))\n",
    "        else:\n",
    "            ply = Nimply(data[\"longest_row\"], random.randint(1, state.rows[data[\"longest_row\"]]))\n",
    "\n",
    "        return ply\n",
    "\n",
    "    return evolvable"
   ]
  },
  {
   "cell_type": "code",
   "execution_count": 251,
   "metadata": {},
   "outputs": [],
   "source": [
    "NUM_MATCHES = 100\n",
    "NIM_SIZE = 21\n",
    "\n",
    "\n",
    "def evaluate(strategy: Callable) -> float:\n",
    "    opponent = (strategy, gabriele)\n",
    "    won = 0\n",
    "\n",
    "    for m in range(NUM_MATCHES):\n",
    "        nim = Nim(NIM_SIZE)\n",
    "        player = 0\n",
    "        while nim:\n",
    "            ply = opponent[player](nim)\n",
    "            nim.nimming(ply)\n",
    "            player = 1 - player\n",
    "        if player == 1:\n",
    "            won += 1\n",
    "    return won / NUM_MATCHES"
   ]
  },
  {
   "cell_type": "markdown",
   "metadata": {},
   "source": [
    "## P2 -> Evolutionary Alg "
   ]
  },
  {
   "cell_type": "code",
   "execution_count": 252,
   "metadata": {},
   "outputs": [],
   "source": [
    "def make_evolutionary_strategy(genome: dict) -> Callable:\n",
    "    def evolvable(state: Nim) -> Nimply:\n",
    "        data = cook_status(state)\n",
    "\n",
    "        if data[\"active_rows_number\"]==1:\n",
    "            ply=Nimply(data[\"shortest_row\"],state.rows[data[\"shortest_row\"]])\n",
    "            return ply\n",
    "\n",
    "        if random.random() < genome[\"p\"]:\n",
    "            #PRENDI TUTTO\n",
    "            ply=Nimply(data[\"shortest_row\"],state.rows[data[\"shortest_row\"]])\n",
    "        else:\n",
    "            #PRENDI TUTTO -1\n",
    "            rowChoice=random.choice([x[0] for x in enumerate(state.rows) if x[1]!=0])\n",
    "            ply=Nimply(rowChoice,state.rows[rowChoice] if state.rows[rowChoice]==1 else state.rows[rowChoice]-1)\n",
    "        return ply\n",
    "\n",
    "    return evolvable"
   ]
  },
  {
   "cell_type": "code",
   "execution_count": 253,
   "metadata": {},
   "outputs": [
    {
     "data": {
      "text/plain": [
       "'moves=[\\n    if nim!=0 -> take 1 at random\\n    if nim!=0 -> take all at random\\n    if only one row -> take it all\\n    \\n]'"
      ]
     },
     "execution_count": 253,
     "metadata": {},
     "output_type": "execute_result"
    }
   ],
   "source": [
    "'''moves=[\n",
    "    if nim!=0 -> take 1 at random\n",
    "    if nim!=0 -> take all at random\n",
    "    if only one row -> take it all\n",
    "    \n",
    "]'''"
   ]
  },
  {
   "cell_type": "code",
   "execution_count": 254,
   "metadata": {},
   "outputs": [
    {
     "name": "stdout",
     "output_type": "stream",
     "text": [
      "Round 1: WR:0.63 with P:0.35\n",
      "Round 2: WR:0.61 with P:0.4125\n",
      "Round 3: WR:0.65 with P:0.4125\n",
      "Round 4: WR:0.59 with P:0.475\n",
      "Round 5: WR:0.62 with P:0.475\n",
      "Round 6: WR:0.63 with P:0.5375\n",
      "Round 7: WR:0.61 with P:0.615625\n",
      "Round 8: WR:0.63 with P:0.615625\n",
      "Round 9: WR:0.57 with P:0.678125\n",
      "Round 10: WR:0.61 with P:0.678125\n",
      "Round 11: WR:0.59 with P:0.740625\n",
      "Round 12: WR:0.57 with P:0.740625\n",
      "Round 13: WR:0.62 with P:0.6906249999999999\n",
      "Round 14: WR:0.63 with P:0.6281249999999999\n",
      "Round 15: WR:0.61 with P:0.5499999999999999\n",
      "Round 16: WR:0.58 with P:0.5499999999999999\n",
      "Round 17: WR:0.57 with P:0.6\n",
      "Round 18: WR:0.55 with P:0.6\n",
      "Round 19: WR:0.53 with P:0.5499999999999999\n",
      "Round 20: WR:0.58 with P:0.5499999999999999\n",
      "Round 21: WR:0.61 with P:0.48749999999999993\n",
      "Round 22: WR:0.59 with P:0.40937499999999993\n",
      "Round 23: WR:0.58 with P:0.40937499999999993\n",
      "Round 24: WR:0.65 with P:0.4593749999999999\n",
      "Round 25: WR:0.58 with P:0.5218749999999999\n",
      "Round 26: WR:0.58 with P:0.5218749999999999\n",
      "Round 27: WR:0.54 with P:0.5843749999999999\n",
      "Round 28: WR:0.54 with P:0.5843749999999999\n",
      "Round 29: WR:0.58 with P:0.6468749999999999\n",
      "Round 30: WR:0.57 with P:0.7249999999999999\n",
      "Round 31: WR:0.64 with P:0.7249999999999999\n",
      "Round 32: WR:0.56 with P:0.7874999999999999\n",
      "Round 33: WR:0.54 with P:0.7874999999999999\n",
      "Round 34: WR:0.61 with P:0.7374999999999998\n",
      "Round 35: WR:0.57 with P:0.6749999999999998\n",
      "Round 36: WR:0.55 with P:0.6749999999999998\n",
      "Round 37: WR:0.55 with P:0.7249999999999999\n",
      "Round 38: WR:0.57 with P:0.7874999999999999\n",
      "Round 39: WR:0.6 with P:0.8656249999999999\n",
      "Round 40: WR:0.76 with P:0.9632812499999999\n",
      "Round 41: WR:1.0 with P:1.0853515624999999\n",
      "Round 42: WR:1.0 with P:1.2379394531249999\n",
      "Round 43: WR:1.0 with P:1.4286743164062499\n",
      "Round 44: WR:1.0 with P:1.6670928955078124\n",
      "Round 45: WR:1.0 with P:1.9651161193847655\n",
      "Round 46: WR:1.0 with P:2.3376451492309567\n",
      "Round 47: WR:1.0 with P:2.803306436538696\n",
      "Round 48: WR:1.0 with P:3.38538304567337\n",
      "Round 49: WR:1.0 with P:4.112978807091713\n",
      "Round 50: WR:1.0 with P:5.022473508864641\n",
      "Round 51: WR:1.0 with P:6.159341886080801\n",
      "Round 52: WR:1.0 with P:7.5804273576010015\n",
      "Round 53: WR:1.0 with P:9.356784197001252\n",
      "Round 54: WR:1.0 with P:11.577230246251565\n",
      "Round 55: WR:1.0 with P:14.352787807814456\n",
      "Round 56: WR:1.0 with P:17.822234759768072\n",
      "Round 57: WR:1.0 with P:22.15904344971009\n",
      "Round 58: WR:1.0 with P:27.580054312137612\n",
      "Round 59: WR:1.0 with P:34.356317890172015\n",
      "Round 60: WR:1.0 with P:42.82664736271502\n",
      "Round 61: WR:1.0 with P:53.41455920339378\n",
      "Round 62: WR:1.0 with P:66.64944900424223\n",
      "Round 63: WR:1.0 with P:83.19306125530278\n",
      "Round 64: WR:1.0 with P:103.87257656912847\n",
      "Round 65: WR:1.0 with P:129.7219707114106\n",
      "Round 66: WR:1.0 with P:162.03371338926323\n",
      "Round 67: WR:1.0 with P:202.42339173657902\n",
      "Round 68: WR:1.0 with P:252.91048967072376\n",
      "Round 69: WR:1.0 with P:316.0193620884047\n",
      "Round 70: WR:1.0 with P:394.9054526105059\n",
      "Round 71: WR:1.0 with P:493.5130657631324\n",
      "Round 72: WR:1.0 with P:616.7725822039155\n",
      "Round 73: WR:1.0 with P:770.8469777548944\n",
      "Round 74: WR:1.0 with P:963.4399721936179\n"
     ]
    },
    {
     "ename": "KeyboardInterrupt",
     "evalue": "",
     "output_type": "error",
     "traceback": [
      "\u001b[0;31m---------------------------------------------------------------------------\u001b[0m",
      "\u001b[0;31mKeyboardInterrupt\u001b[0m                         Traceback (most recent call last)",
      "Cell \u001b[0;32mIn [254], line 27\u001b[0m\n\u001b[1;32m     24\u001b[0m         prevWR\u001b[39m=\u001b[39mwr\n\u001b[1;32m     25\u001b[0m         \u001b[39mprint\u001b[39m(\u001b[39mf\u001b[39m\u001b[39m\"\u001b[39m\u001b[39mRound \u001b[39m\u001b[39m{\u001b[39;00mi\u001b[39m+\u001b[39m\u001b[39m1\u001b[39m\u001b[39m}\u001b[39;00m\u001b[39m: WR:\u001b[39m\u001b[39m{\u001b[39;00mwr\u001b[39m}\u001b[39;00m\u001b[39m with P:\u001b[39m\u001b[39m{\u001b[39;00mgenome[\u001b[39m'\u001b[39m\u001b[39mp\u001b[39m\u001b[39m'\u001b[39m]\u001b[39m}\u001b[39;00m\u001b[39m\"\u001b[39m)\n\u001b[0;32m---> 27\u001b[0m evolve(make_evolutionary_strategy)\n",
      "Cell \u001b[0;32mIn [254], line 13\u001b[0m, in \u001b[0;36mevolve\u001b[0;34m(strat)\u001b[0m\n\u001b[1;32m     11\u001b[0m     genome[\u001b[39m\"\u001b[39m\u001b[39mp\u001b[39m\u001b[39m\"\u001b[39m]\u001b[39m+\u001b[39m\u001b[39m=\u001b[39mdirection\n\u001b[1;32m     12\u001b[0m newStrat\u001b[39m=\u001b[39mstrat(genome)\n\u001b[0;32m---> 13\u001b[0m wr\u001b[39m=\u001b[39mevaluate(newStrat)\n\u001b[1;32m     14\u001b[0m \u001b[39mif\u001b[39;00m(prevWR\u001b[39m<\u001b[39m\u001b[39m=\u001b[39mwr):\n\u001b[1;32m     15\u001b[0m     lostMatchesCounter\u001b[39m=\u001b[39m\u001b[39m0\u001b[39m\n",
      "Cell \u001b[0;32mIn [251], line 13\u001b[0m, in \u001b[0;36mevaluate\u001b[0;34m(strategy)\u001b[0m\n\u001b[1;32m     11\u001b[0m player \u001b[39m=\u001b[39m \u001b[39m0\u001b[39m\n\u001b[1;32m     12\u001b[0m \u001b[39mwhile\u001b[39;00m nim:\n\u001b[0;32m---> 13\u001b[0m     ply \u001b[39m=\u001b[39m opponent[player](nim)\n\u001b[1;32m     14\u001b[0m     nim\u001b[39m.\u001b[39mnimming(ply)\n\u001b[1;32m     15\u001b[0m     player \u001b[39m=\u001b[39m \u001b[39m1\u001b[39m \u001b[39m-\u001b[39m player\n",
      "\u001b[0;31mKeyboardInterrupt\u001b[0m: "
     ]
    }
   ],
   "source": [
    "NUM_GEN=100\n",
    "\n",
    "\n",
    "def evolve(strat:Callable):\n",
    "    genome={\"p\":0.3}\n",
    "    lostMatchesCounter=0\n",
    "    prevWR=evaluate(strat(genome))\n",
    "    direction=+0.05\n",
    "    for i in range(NUM_GEN):\n",
    "        if lostMatchesCounter==0: #if you just made a mistake, double check\n",
    "            genome[\"p\"]+=direction\n",
    "        newStrat=strat(genome)\n",
    "        wr=evaluate(newStrat)\n",
    "        if(prevWR<=wr):\n",
    "            lostMatchesCounter=0\n",
    "            direction*=1.25\n",
    "        else :\n",
    "            lostMatchesCounter+=1\n",
    "            direction=0.05*(direction/abs(direction))#reset step to 0.05\n",
    "            if lostMatchesCounter>=2:\n",
    "                direction=-direction #set to flipped sign\n",
    "                lostMatchesCounter=0\n",
    "        \n",
    "        prevWR=wr\n",
    "        print(f\"Round {i+1}: WR:{wr} with P:{genome['p']}\")\n",
    "            \n",
    "evolve(make_evolutionary_strategy)"
   ]
  },
  {
   "cell_type": "markdown",
   "metadata": {},
   "source": [
    "## Oversimplified match"
   ]
  },
  {
   "cell_type": "code",
   "execution_count": null,
   "metadata": {},
   "outputs": [
    {
     "name": "stderr",
     "output_type": "stream",
     "text": [
      "DEBUG:root:status: Initial board  -> <1 3 5 7 9 11 13 15 17 19 21>\n",
      "DEBUG:root:status: After player 0 -> <1 3 5 7 9 11 13 15 17 19 1>\n"
     ]
    },
    {
     "ename": "KeyError",
     "evalue": "'brute_force'",
     "output_type": "error",
     "traceback": [
      "\u001b[0;31m---------------------------------------------------------------------------\u001b[0m",
      "\u001b[0;31mKeyError\u001b[0m                                  Traceback (most recent call last)",
      "Cell \u001b[0;32mIn [218], line 9\u001b[0m\n\u001b[1;32m      7\u001b[0m player \u001b[39m=\u001b[39m \u001b[39m0\u001b[39m\n\u001b[1;32m      8\u001b[0m \u001b[39mwhile\u001b[39;00m nim:\n\u001b[0;32m----> 9\u001b[0m     ply \u001b[39m=\u001b[39m strategy[player](nim)\n\u001b[1;32m     10\u001b[0m     nim\u001b[39m.\u001b[39mnimming(ply)\n\u001b[1;32m     11\u001b[0m     logging\u001b[39m.\u001b[39mdebug(\u001b[39mf\u001b[39m\u001b[39m\"\u001b[39m\u001b[39mstatus: After player \u001b[39m\u001b[39m{\u001b[39;00mplayer\u001b[39m}\u001b[39;00m\u001b[39m -> \u001b[39m\u001b[39m{\u001b[39;00mnim\u001b[39m}\u001b[39;00m\u001b[39m\"\u001b[39m)\n",
      "Cell \u001b[0;32mIn [212], line 3\u001b[0m, in \u001b[0;36moptimal_startegy\u001b[0;34m(state)\u001b[0m\n\u001b[1;32m      1\u001b[0m \u001b[39mdef\u001b[39;00m \u001b[39moptimal_startegy\u001b[39m(state: Nim) \u001b[39m-\u001b[39m\u001b[39m>\u001b[39m Nimply:\n\u001b[1;32m      2\u001b[0m     data \u001b[39m=\u001b[39m cook_status(state)\n\u001b[0;32m----> 3\u001b[0m     \u001b[39mreturn\u001b[39;00m \u001b[39mnext\u001b[39m((bf \u001b[39mfor\u001b[39;00m bf \u001b[39min\u001b[39;00m data[\u001b[39m\"\u001b[39;49m\u001b[39mbrute_force\u001b[39;49m\u001b[39m\"\u001b[39;49m] \u001b[39mif\u001b[39;00m bf[\u001b[39m1\u001b[39m] \u001b[39m==\u001b[39m \u001b[39m0\u001b[39m), random\u001b[39m.\u001b[39mchoice(data[\u001b[39m\"\u001b[39m\u001b[39mbrute_force\u001b[39m\u001b[39m\"\u001b[39m]))[\u001b[39m0\u001b[39m]\n",
      "\u001b[0;31mKeyError\u001b[0m: 'brute_force'"
     ]
    }
   ],
   "source": [
    "logging.getLogger().setLevel(logging.DEBUG)\n",
    "\n",
    "strategy = (make_strategy({\"p\": 0.1}), optimal_startegy)\n",
    "\n",
    "nim = Nim(11)\n",
    "logging.debug(f\"status: Initial board  -> {nim}\")\n",
    "player = 0\n",
    "while nim:\n",
    "    ply = strategy[player](nim)\n",
    "    nim.nimming(ply)\n",
    "    logging.debug(f\"status: After player {player} -> {nim}\")\n",
    "    player = 1 - player\n",
    "winner = 1 - player\n",
    "logging.info(f\"status: Player {winner} won!\")"
   ]
  }
 ],
 "metadata": {
  "kernelspec": {
   "display_name": "Python 3.10.8 ('.venv': poetry)",
   "language": "python",
   "name": "python3"
  },
  "language_info": {
   "codemirror_mode": {
    "name": "ipython",
    "version": 3
   },
   "file_extension": ".py",
   "mimetype": "text/x-python",
   "name": "python",
   "nbconvert_exporter": "python",
   "pygments_lexer": "ipython3",
   "version": "3.10.8"
  },
  "vscode": {
   "interpreter": {
    "hash": "55ba9e9f377da4b122898c7da5dc65f5811df1165b58878575aa29f7eca42830"
   }
  }
 },
 "nbformat": 4,
 "nbformat_minor": 2
}
