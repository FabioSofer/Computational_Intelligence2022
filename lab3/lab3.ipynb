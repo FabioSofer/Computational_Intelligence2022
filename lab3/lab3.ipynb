{
 "cells": [
  {
   "cell_type": "markdown",
   "metadata": {
    "pycharm": {
     "name": "#%% md\n"
    }
   },
   "source": [
    "Copyright **`(c)`** 2022 Giovanni Squillero `<squillero@polito.it>`  \n",
    "[`https://github.com/squillero/computational-intelligence`](https://github.com/squillero/computational-intelligence)  \n",
    "Free for personal or classroom use; see [`LICENSE.md`](https://github.com/squillero/computational-intelligence/blob/master/LICENSE.md) for details.  \n"
   ]
  },
  {
   "cell_type": "markdown",
   "metadata": {
    "pycharm": {
     "name": "#%%\n"
    }
   },
   "source": [
    "# Lab 3: Policy Search\n",
    "\n",
    "## Task\n",
    "\n",
    "Write agents able to play [*Nim*](https://en.wikipedia.org/wiki/Nim), with an arbitrary number of rows and an upper bound $k$ on the number of objects that can be removed in a turn (a.k.a., *subtraction game*).\n",
    "\n",
    "The player **taking the last object wins**.\n",
    "\n",
    "* Task3.1: An agent using fixed rules based on *nim-sum* (i.e., an *expert system*)\n",
    "* Task3.2: An agent using evolved rules\n",
    "* Task3.3: An agent using minmax\n",
    "* Task3.4: An agent using reinforcement learning\n",
    "\n",
    "## Instructions\n",
    "\n",
    "* Create the directory `lab3` inside the course repo \n",
    "* Put a `README.md` and your solution (all the files, code and auxiliary data if needed)\n",
    "\n",
    "## Notes\n",
    "\n",
    "* Working in group is not only allowed, but recommended (see: [Ubuntu](https://en.wikipedia.org/wiki/Ubuntu_philosophy) and [Cooperative Learning](https://files.eric.ed.gov/fulltext/EJ1096789.pdf)). Collaborations must be explicitly declared in the `README.md`.\n",
    "* [Yanking](https://www.emacswiki.org/emacs/KillingAndYanking) from the internet is allowed, but sources must be explicitly declared in the `README.md`.\n",
    "\n",
    "## Deadlines ([AoE](https://en.wikipedia.org/wiki/Anywhere_on_Earth))\n",
    "\n",
    "* Sunday, December 4th for Task3.1 and Task3.2\n",
    "* Sunday, December 11th for Task3.3 and Task3.4\n",
    "* Sunday, December 18th for all reviews"
   ]
  },
  {
   "cell_type": "code",
   "execution_count": 45,
   "metadata": {},
   "outputs": [],
   "source": [
    "import logging\n",
    "from collections import namedtuple\n",
    "import random\n",
    "from typing import Callable\n",
    "from copy import deepcopy\n",
    "from itertools import accumulate\n",
    "from operator import xor\n",
    "import math"
   ]
  },
  {
   "cell_type": "markdown",
   "metadata": {},
   "source": [
    "## The *Nim* and *Nimply* classes"
   ]
  },
  {
   "cell_type": "code",
   "execution_count": 46,
   "metadata": {},
   "outputs": [],
   "source": [
    "Nimply = namedtuple(\"Nimply\", \"row, num_objects\")"
   ]
  },
  {
   "cell_type": "code",
   "execution_count": 47,
   "metadata": {},
   "outputs": [],
   "source": [
    "class Nim:\n",
    "    def __init__(self, num_rows: int, k: int = None) -> None:\n",
    "        self._rows = [i * 2 + 1 for i in range(num_rows)]\n",
    "        self._k = k\n",
    "\n",
    "    def __bool__(self):\n",
    "        return sum(self._rows) > 0\n",
    "\n",
    "    def __str__(self):\n",
    "        return \"<\" + \" \".join(str(_) for _ in self._rows) + \">\"\n",
    "\n",
    "    @property\n",
    "    def rows(self) -> tuple:\n",
    "        return tuple(self._rows)\n",
    "\n",
    "    @property\n",
    "    def k(self) -> int:\n",
    "        return self._k\n",
    "\n",
    "    def nimming(self, ply: Nimply) -> None:\n",
    "        row, num_objects = ply\n",
    "        assert self._rows[row] >= num_objects\n",
    "        assert self._k is None or num_objects <= self._k\n",
    "        self._rows[row] -= num_objects"
   ]
  },
  {
   "cell_type": "markdown",
   "metadata": {},
   "source": [
    "## Sample Strategies "
   ]
  },
  {
   "cell_type": "code",
   "execution_count": 48,
   "metadata": {},
   "outputs": [],
   "source": [
    "def pure_random(state: Nim) -> Nimply:\n",
    "    row = random.choice([r for r, c in enumerate(state.rows) if c > 0])\n",
    "    num_objects = random.randint(1, state.rows[row])\n",
    "    return Nimply(row, num_objects)"
   ]
  },
  {
   "cell_type": "code",
   "execution_count": 49,
   "metadata": {},
   "outputs": [],
   "source": [
    "def gabriele(state: Nim) -> Nimply:\n",
    "    \"\"\"Pick always the maximum possible number of the lowest row\"\"\"\n",
    "    possible_moves = [(r, o) for r, c in enumerate(state.rows) for o in range(1, c + 1)]\n",
    "    return Nimply(*max(possible_moves, key=lambda m: (-m[0], m[1])))"
   ]
  },
  {
   "cell_type": "markdown",
   "metadata": {},
   "source": [
    "## P1: Expert Player (same as Professor's)"
   ]
  },
  {
   "cell_type": "code",
   "execution_count": 50,
   "metadata": {},
   "outputs": [],
   "source": [
    "def nim_sum(state: Nim) -> int:\n",
    "    *_, result = accumulate(state.rows, xor)\n",
    "    return result\n",
    "\n",
    "\n",
    "def cook_status(state: Nim,nimSum=False) -> dict:\n",
    "    cooked = dict()\n",
    "    cooked[\"possible_moves\"] = [\n",
    "        (r, o) for r, c in enumerate(state.rows) for o in range(1, c + 1) if state.k is None or o <= state.k\n",
    "    ]\n",
    "    cooked[\"active_rows_number\"] = sum(o > 0 for o in state.rows)\n",
    "    cooked[\"shortest_row\"] = min((x for x in enumerate(state.rows) if x[1] > 0), key=lambda y: y[1])[0]\n",
    "    cooked[\"longest_row\"] = max((x for x in enumerate(state.rows)), key=lambda y: y[1])[0]\n",
    "    if nimSum:\n",
    "        cooked[\"nim_sum\"] = nim_sum(state)\n",
    "\n",
    "        brute_force = list()\n",
    "        for m in cooked[\"possible_moves\"]:\n",
    "            tmp = deepcopy(state)\n",
    "            tmp.nimming(m)\n",
    "            brute_force.append((m, nim_sum(tmp)))\n",
    "        cooked[\"brute_force\"] = brute_force\n",
    "    return cooked"
   ]
  },
  {
   "cell_type": "code",
   "execution_count": 51,
   "metadata": {},
   "outputs": [],
   "source": [
    "def optimal_startegy(state: Nim) -> Nimply:\n",
    "    data = cook_status(state)\n",
    "    return next((bf for bf in data[\"brute_force\"] if bf[1] == 0), random.choice(data[\"brute_force\"]))[0]"
   ]
  },
  {
   "cell_type": "code",
   "execution_count": 52,
   "metadata": {},
   "outputs": [],
   "source": [
    "NUM_MATCHES = 100\n",
    "NIM_SIZE = 20\n",
    "\n",
    "\n",
    "def evaluate(strategy: Callable,opponent) -> float:\n",
    "    opponent = (strategy, opponent)\n",
    "    won = 0\n",
    "\n",
    "    for m in range(NUM_MATCHES):\n",
    "        nim = Nim(NIM_SIZE)\n",
    "        player = 0\n",
    "        while nim:\n",
    "            ply = opponent[player](nim)\n",
    "            nim.nimming(ply)\n",
    "            player = 1 - player\n",
    "        if player == 1:\n",
    "            won += 1\n",
    "    return won / NUM_MATCHES"
   ]
  },
  {
   "cell_type": "markdown",
   "metadata": {},
   "source": [
    "## P2 -> Evolutionary Alg "
   ]
  },
  {
   "cell_type": "code",
   "execution_count": 53,
   "metadata": {},
   "outputs": [],
   "source": [
    "def make_evolutionary_strategy(genome: dict) -> Callable:\n",
    "    def evolvable(state: Nim) -> Nimply:\n",
    "        data = cook_status(state)\n",
    "\n",
    "        if data[\"active_rows_number\"]==1:\n",
    "            ply=Nimply(data[\"shortest_row\"],state.rows[data[\"shortest_row\"]])\n",
    "            return ply\n",
    "\n",
    "        if random.random() < genome[\"p\"]:\n",
    "            #Take Everything\n",
    "            ply=Nimply(data[\"shortest_row\"],state.rows[data[\"shortest_row\"]])\n",
    "        else:\n",
    "            #Take Everything but 1\n",
    "            rowChoice=random.choice([x[0] for x in enumerate(state.rows) if x[1]!=0])\n",
    "            ply=Nimply(rowChoice,state.rows[rowChoice] if state.rows[rowChoice]==1 else state.rows[rowChoice]-1)\n",
    "        return ply\n",
    "\n",
    "    return evolvable"
   ]
  },
  {
   "cell_type": "code",
   "execution_count": 54,
   "metadata": {},
   "outputs": [],
   "source": [
    "NUM_GEN=100\n",
    "\n",
    "\n",
    "def evolve(strat:Callable,opponent):\n",
    "    genome={\"p\":0.5}\n",
    "    lostMatchesCounter=0\n",
    "    prevWR=evaluate(strat(genome),opponent)  \n",
    "    direction=+0.05\n",
    "    for i in range(NUM_GEN):\n",
    "        sign=(direction/abs(direction)) #current sign of direction + or -\n",
    "\n",
    "        if lostMatchesCounter==0: #if you just made a mistake, double check\n",
    "            genome[\"p\"]+=direction\n",
    "        newStrat=strat(genome)\n",
    "        wr=evaluate(newStrat,opponent)\n",
    "        if(prevWR<=wr):\n",
    "            lostMatchesCounter=0\n",
    "            direction=min(direction*1.2,0.1*sign) #we slowly gain confidence in our direction,\n",
    "            # up to a maximum accelleration of .1\n",
    "        else :\n",
    "            lostMatchesCounter+=1\n",
    "            direction=0.05*sign#reset step to 0.05\n",
    "            if lostMatchesCounter>=2:\n",
    "                direction=-direction #set to flipped sign\n",
    "                lostMatchesCounter=0\n",
    "        \n",
    "        prevWR=wr\n",
    "        print(f\"Round {i+1}: WR:{wr} with P:{genome['p']}\")\n",
    "    return genome\n",
    "\n",
    "    \n",
    "#evolve(make_evolutionary_strategy)"
   ]
  },
  {
   "cell_type": "markdown",
   "metadata": {},
   "source": [
    "## Tournament Function"
   ]
  },
  {
   "cell_type": "markdown",
   "metadata": {},
   "source": [
    "## Example match"
   ]
  },
  {
   "cell_type": "code",
   "execution_count": 55,
   "metadata": {},
   "outputs": [
    {
     "name": "stdout",
     "output_type": "stream",
     "text": [
      "Round 1: WR:0.53 with P:0.55\n",
      "Round 2: WR:0.58 with P:0.55\n",
      "Round 3: WR:0.52 with P:0.6100000000000001\n",
      "Round 4: WR:0.55 with P:0.6100000000000001\n",
      "Round 5: WR:0.59 with P:0.6700000000000002\n",
      "Round 6: WR:0.56 with P:0.7420000000000001\n",
      "Round 7: WR:0.5 with P:0.7420000000000001\n",
      "Round 8: WR:0.56 with P:0.6920000000000001\n",
      "Round 9: WR:0.58 with P:0.5920000000000001\n",
      "Round 10: WR:0.7 with P:0.4720000000000001\n",
      "Round 11: WR:0.65 with P:0.32800000000000007\n",
      "Round 12: WR:0.55 with P:0.32800000000000007\n",
      "Round 13: WR:0.6 with P:0.37800000000000006\n",
      "Round 14: WR:0.55 with P:0.43800000000000006\n",
      "Round 15: WR:0.57 with P:0.43800000000000006\n",
      "Round 16: WR:0.55 with P:0.49800000000000005\n",
      "Round 17: WR:0.67 with P:0.49800000000000005\n",
      "Round 18: WR:0.6 with P:0.558\n",
      "Round 19: WR:0.63 with P:0.558\n",
      "Round 20: WR:0.63 with P:0.6180000000000001\n",
      "Round 21: WR:0.6 with P:0.6900000000000001\n"
     ]
    },
    {
     "ename": "KeyboardInterrupt",
     "evalue": "",
     "output_type": "error",
     "traceback": [
      "\u001b[0;31m---------------------------------------------------------------------------\u001b[0m",
      "\u001b[0;31mKeyboardInterrupt\u001b[0m                         Traceback (most recent call last)",
      "Cell \u001b[0;32mIn [55], line 3\u001b[0m\n\u001b[1;32m      1\u001b[0m logging\u001b[39m.\u001b[39mgetLogger()\u001b[39m.\u001b[39msetLevel(logging\u001b[39m.\u001b[39mDEBUG)\n\u001b[1;32m      2\u001b[0m \u001b[39m#find the optimal p for the matchup\u001b[39;00m\n\u001b[0;32m----> 3\u001b[0m strategy \u001b[39m=\u001b[39m (make_evolutionary_strategy(evolve\n\u001b[1;32m      4\u001b[0m (make_evolutionary_strategy,gabriele)), gabriele)\n\u001b[1;32m      5\u001b[0m \u001b[39m#play the \"real\" game\u001b[39;00m\n\u001b[1;32m      6\u001b[0m nim \u001b[39m=\u001b[39m Nim(\u001b[39m10\u001b[39m)\n",
      "Cell \u001b[0;32mIn [54], line 15\u001b[0m, in \u001b[0;36mevolve\u001b[0;34m(strat, opponent)\u001b[0m\n\u001b[1;32m     13\u001b[0m     genome[\u001b[39m\"\u001b[39m\u001b[39mp\u001b[39m\u001b[39m\"\u001b[39m]\u001b[39m+\u001b[39m\u001b[39m=\u001b[39mdirection\n\u001b[1;32m     14\u001b[0m newStrat\u001b[39m=\u001b[39mstrat(genome)\n\u001b[0;32m---> 15\u001b[0m wr\u001b[39m=\u001b[39mevaluate(newStrat,opponent)\n\u001b[1;32m     16\u001b[0m \u001b[39mif\u001b[39;00m(prevWR\u001b[39m<\u001b[39m\u001b[39m=\u001b[39mwr):\n\u001b[1;32m     17\u001b[0m     lostMatchesCounter\u001b[39m=\u001b[39m\u001b[39m0\u001b[39m\n",
      "Cell \u001b[0;32mIn [52], line 13\u001b[0m, in \u001b[0;36mevaluate\u001b[0;34m(strategy, opponent)\u001b[0m\n\u001b[1;32m     11\u001b[0m player \u001b[39m=\u001b[39m \u001b[39m0\u001b[39m\n\u001b[1;32m     12\u001b[0m \u001b[39mwhile\u001b[39;00m nim:\n\u001b[0;32m---> 13\u001b[0m     ply \u001b[39m=\u001b[39m opponent[player](nim)\n\u001b[1;32m     14\u001b[0m     nim\u001b[39m.\u001b[39mnimming(ply)\n\u001b[1;32m     15\u001b[0m     player \u001b[39m=\u001b[39m \u001b[39m1\u001b[39m \u001b[39m-\u001b[39m player\n",
      "Cell \u001b[0;32mIn [53], line 3\u001b[0m, in \u001b[0;36mmake_evolutionary_strategy.<locals>.evolvable\u001b[0;34m(state)\u001b[0m\n\u001b[1;32m      2\u001b[0m \u001b[39mdef\u001b[39;00m \u001b[39mevolvable\u001b[39m(state: Nim) \u001b[39m-\u001b[39m\u001b[39m>\u001b[39m Nimply:\n\u001b[0;32m----> 3\u001b[0m     data \u001b[39m=\u001b[39m cook_status(state)\n\u001b[1;32m      5\u001b[0m     \u001b[39mif\u001b[39;00m data[\u001b[39m\"\u001b[39m\u001b[39mactive_rows_number\u001b[39m\u001b[39m\"\u001b[39m]\u001b[39m==\u001b[39m\u001b[39m1\u001b[39m:\n\u001b[1;32m      6\u001b[0m         ply\u001b[39m=\u001b[39mNimply(data[\u001b[39m\"\u001b[39m\u001b[39mshortest_row\u001b[39m\u001b[39m\"\u001b[39m],state\u001b[39m.\u001b[39mrows[data[\u001b[39m\"\u001b[39m\u001b[39mshortest_row\u001b[39m\u001b[39m\"\u001b[39m]])\n",
      "Cell \u001b[0;32mIn [50], line 8\u001b[0m, in \u001b[0;36mcook_status\u001b[0;34m(state, nimSum)\u001b[0m\n\u001b[1;32m      6\u001b[0m \u001b[39mdef\u001b[39;00m \u001b[39mcook_status\u001b[39m(state: Nim,nimSum\u001b[39m=\u001b[39m\u001b[39mFalse\u001b[39;00m) \u001b[39m-\u001b[39m\u001b[39m>\u001b[39m \u001b[39mdict\u001b[39m:\n\u001b[1;32m      7\u001b[0m     cooked \u001b[39m=\u001b[39m \u001b[39mdict\u001b[39m()\n\u001b[0;32m----> 8\u001b[0m     cooked[\u001b[39m\"\u001b[39m\u001b[39mpossible_moves\u001b[39m\u001b[39m\"\u001b[39m] \u001b[39m=\u001b[39m [\n\u001b[1;32m      9\u001b[0m         (r, o) \u001b[39mfor\u001b[39;00m r, c \u001b[39min\u001b[39;00m \u001b[39menumerate\u001b[39m(state\u001b[39m.\u001b[39mrows) \u001b[39mfor\u001b[39;00m o \u001b[39min\u001b[39;00m \u001b[39mrange\u001b[39m(\u001b[39m1\u001b[39m, c \u001b[39m+\u001b[39m \u001b[39m1\u001b[39m) \u001b[39mif\u001b[39;00m state\u001b[39m.\u001b[39mk \u001b[39mis\u001b[39;00m \u001b[39mNone\u001b[39;00m \u001b[39mor\u001b[39;00m o \u001b[39m<\u001b[39m\u001b[39m=\u001b[39m state\u001b[39m.\u001b[39mk\n\u001b[1;32m     10\u001b[0m     ]\n\u001b[1;32m     11\u001b[0m     cooked[\u001b[39m\"\u001b[39m\u001b[39mactive_rows_number\u001b[39m\u001b[39m\"\u001b[39m] \u001b[39m=\u001b[39m \u001b[39msum\u001b[39m(o \u001b[39m>\u001b[39m \u001b[39m0\u001b[39m \u001b[39mfor\u001b[39;00m o \u001b[39min\u001b[39;00m state\u001b[39m.\u001b[39mrows)\n\u001b[1;32m     12\u001b[0m     cooked[\u001b[39m\"\u001b[39m\u001b[39mshortest_row\u001b[39m\u001b[39m\"\u001b[39m] \u001b[39m=\u001b[39m \u001b[39mmin\u001b[39m((x \u001b[39mfor\u001b[39;00m x \u001b[39min\u001b[39;00m \u001b[39menumerate\u001b[39m(state\u001b[39m.\u001b[39mrows) \u001b[39mif\u001b[39;00m x[\u001b[39m1\u001b[39m] \u001b[39m>\u001b[39m \u001b[39m0\u001b[39m), key\u001b[39m=\u001b[39m\u001b[39mlambda\u001b[39;00m y: y[\u001b[39m1\u001b[39m])[\u001b[39m0\u001b[39m]\n",
      "Cell \u001b[0;32mIn [50], line 9\u001b[0m, in \u001b[0;36m<listcomp>\u001b[0;34m(.0)\u001b[0m\n\u001b[1;32m      6\u001b[0m \u001b[39mdef\u001b[39;00m \u001b[39mcook_status\u001b[39m(state: Nim,nimSum\u001b[39m=\u001b[39m\u001b[39mFalse\u001b[39;00m) \u001b[39m-\u001b[39m\u001b[39m>\u001b[39m \u001b[39mdict\u001b[39m:\n\u001b[1;32m      7\u001b[0m     cooked \u001b[39m=\u001b[39m \u001b[39mdict\u001b[39m()\n\u001b[1;32m      8\u001b[0m     cooked[\u001b[39m\"\u001b[39m\u001b[39mpossible_moves\u001b[39m\u001b[39m\"\u001b[39m] \u001b[39m=\u001b[39m [\n\u001b[0;32m----> 9\u001b[0m         (r, o) \u001b[39mfor\u001b[39;00m r, c \u001b[39min\u001b[39;00m \u001b[39menumerate\u001b[39m(state\u001b[39m.\u001b[39mrows) \u001b[39mfor\u001b[39;00m o \u001b[39min\u001b[39;00m \u001b[39mrange\u001b[39m(\u001b[39m1\u001b[39m, c \u001b[39m+\u001b[39m \u001b[39m1\u001b[39m) \u001b[39mif\u001b[39;00m state\u001b[39m.\u001b[39mk \u001b[39mis\u001b[39;00m \u001b[39mNone\u001b[39;00m \u001b[39mor\u001b[39;00m o \u001b[39m<\u001b[39m\u001b[39m=\u001b[39m state\u001b[39m.\u001b[39mk\n\u001b[1;32m     10\u001b[0m     ]\n\u001b[1;32m     11\u001b[0m     cooked[\u001b[39m\"\u001b[39m\u001b[39mactive_rows_number\u001b[39m\u001b[39m\"\u001b[39m] \u001b[39m=\u001b[39m \u001b[39msum\u001b[39m(o \u001b[39m>\u001b[39m \u001b[39m0\u001b[39m \u001b[39mfor\u001b[39;00m o \u001b[39min\u001b[39;00m state\u001b[39m.\u001b[39mrows)\n\u001b[1;32m     12\u001b[0m     cooked[\u001b[39m\"\u001b[39m\u001b[39mshortest_row\u001b[39m\u001b[39m\"\u001b[39m] \u001b[39m=\u001b[39m \u001b[39mmin\u001b[39m((x \u001b[39mfor\u001b[39;00m x \u001b[39min\u001b[39;00m \u001b[39menumerate\u001b[39m(state\u001b[39m.\u001b[39mrows) \u001b[39mif\u001b[39;00m x[\u001b[39m1\u001b[39m] \u001b[39m>\u001b[39m \u001b[39m0\u001b[39m), key\u001b[39m=\u001b[39m\u001b[39mlambda\u001b[39;00m y: y[\u001b[39m1\u001b[39m])[\u001b[39m0\u001b[39m]\n",
      "\u001b[0;31mKeyboardInterrupt\u001b[0m: "
     ]
    }
   ],
   "source": [
    "logging.getLogger().setLevel(logging.DEBUG)\n",
    "#find the optimal p for the matchup\n",
    "strategy = (make_evolutionary_strategy(evolve\n",
    "(make_evolutionary_strategy,gabriele)), gabriele)\n",
    "#play the \"real\" game\n",
    "nim = Nim(10)\n",
    "logging.debug(f\"status: Initial board  -> {nim}\")\n",
    "player = 0\n",
    "while nim:\n",
    "    ply = strategy[player](nim)\n",
    "    nim.nimming(ply)\n",
    "    logging.debug(f\"status: After player {player} -> {nim}\")\n",
    "    player = 1 - player\n",
    "winner = 1 - player\n",
    "logging.info(f\"status: Player {winner} won!\")"
   ]
  }
 ],
 "metadata": {
  "kernelspec": {
   "display_name": "Python 3.10.8 ('.venv': poetry)",
   "language": "python",
   "name": "python3"
  },
  "language_info": {
   "codemirror_mode": {
    "name": "ipython",
    "version": 3
   },
   "file_extension": ".py",
   "mimetype": "text/x-python",
   "name": "python",
   "nbconvert_exporter": "python",
   "pygments_lexer": "ipython3",
   "version": "3.10.8"
  },
  "vscode": {
   "interpreter": {
    "hash": "55ba9e9f377da4b122898c7da5dc65f5811df1165b58878575aa29f7eca42830"
   }
  }
 },
 "nbformat": 4,
 "nbformat_minor": 2
}
