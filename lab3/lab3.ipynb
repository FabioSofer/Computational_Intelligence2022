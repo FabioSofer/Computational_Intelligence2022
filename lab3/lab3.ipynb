{
 "cells": [
  {
   "cell_type": "markdown",
   "metadata": {
    "pycharm": {
     "name": "#%% md\n"
    }
   },
   "source": [
    "Copyright **`(c)`** 2022 Giovanni Squillero `<squillero@polito.it>`  \n",
    "[`https://github.com/squillero/computational-intelligence`](https://github.com/squillero/computational-intelligence)  \n",
    "Free for personal or classroom use; see [`LICENSE.md`](https://github.com/squillero/computational-intelligence/blob/master/LICENSE.md) for details.  \n"
   ]
  },
  {
   "cell_type": "markdown",
   "metadata": {
    "pycharm": {
     "name": "#%%\n"
    }
   },
   "source": [
    "# Lab 3: Policy Search\n",
    "\n",
    "## Task\n",
    "\n",
    "Write agents able to play [*Nim*](https://en.wikipedia.org/wiki/Nim), with an arbitrary number of rows and an upper bound $k$ on the number of objects that can be removed in a turn (a.k.a., *subtraction game*).\n",
    "\n",
    "The player **taking the last object wins**.\n",
    "\n",
    "* Task3.1: An agent using fixed rules based on *nim-sum* (i.e., an *expert system*)\n",
    "* Task3.2: An agent using evolved rules\n",
    "* Task3.3: An agent using minmax\n",
    "* Task3.4: An agent using reinforcement learning\n",
    "\n",
    "## Instructions\n",
    "\n",
    "* Create the directory `lab3` inside the course repo \n",
    "* Put a `README.md` and your solution (all the files, code and auxiliary data if needed)\n",
    "\n",
    "## Notes\n",
    "\n",
    "* Working in group is not only allowed, but recommended (see: [Ubuntu](https://en.wikipedia.org/wiki/Ubuntu_philosophy) and [Cooperative Learning](https://files.eric.ed.gov/fulltext/EJ1096789.pdf)). Collaborations must be explicitly declared in the `README.md`.\n",
    "* [Yanking](https://www.emacswiki.org/emacs/KillingAndYanking) from the internet is allowed, but sources must be explicitly declared in the `README.md`.\n",
    "\n",
    "## Deadlines ([AoE](https://en.wikipedia.org/wiki/Anywhere_on_Earth))\n",
    "\n",
    "* Sunday, December 4th for Task3.1 and Task3.2\n",
    "* Sunday, December 11th for Task3.3 and Task3.4\n",
    "* Sunday, December 18th for all reviews"
   ]
  },
  {
   "cell_type": "code",
   "execution_count": 155,
   "metadata": {},
   "outputs": [],
   "source": [
    "import logging\n",
    "from collections import namedtuple\n",
    "import random\n",
    "from typing import Callable\n",
    "from copy import deepcopy\n",
    "from itertools import accumulate\n",
    "from operator import xor\n",
    "import math"
   ]
  },
  {
   "cell_type": "markdown",
   "metadata": {},
   "source": [
    "## The *Nim* and *Nimply* classes"
   ]
  },
  {
   "cell_type": "code",
   "execution_count": 156,
   "metadata": {},
   "outputs": [],
   "source": [
    "Nimply = namedtuple(\"Nimply\", \"row, num_objects\")"
   ]
  },
  {
   "cell_type": "code",
   "execution_count": 157,
   "metadata": {},
   "outputs": [],
   "source": [
    "class Nim:\n",
    "    def __init__(self, num_rows: int, k: int = None) -> None:\n",
    "        self._rows = [i * 2 + 1 for i in range(num_rows)]\n",
    "        self._k = k\n",
    "\n",
    "    def __bool__(self):\n",
    "        return sum(self._rows) > 0\n",
    "\n",
    "    def __str__(self):\n",
    "        return \"<\" + \" \".join(str(_) for _ in self._rows) + \">\"\n",
    "\n",
    "    @property\n",
    "    def rows(self) -> tuple:\n",
    "        return tuple(self._rows)\n",
    "\n",
    "    @property\n",
    "    def k(self) -> int:\n",
    "        return self._k\n",
    "\n",
    "    def nimming(self, ply: Nimply) -> None:\n",
    "        row, num_objects = ply\n",
    "        assert self._rows[row] >= num_objects\n",
    "        assert self._k is None or num_objects <= self._k\n",
    "        self._rows[row] -= num_objects"
   ]
  },
  {
   "cell_type": "markdown",
   "metadata": {},
   "source": [
    "## Sample Strategies "
   ]
  },
  {
   "cell_type": "code",
   "execution_count": 158,
   "metadata": {},
   "outputs": [],
   "source": [
    "def pure_random(state: Nim) -> Nimply:\n",
    "    row = random.choice([r for r, c in enumerate(state.rows) if c > 0])\n",
    "    num_objects = random.randint(1, state.rows[row])\n",
    "    return Nimply(row, num_objects)"
   ]
  },
  {
   "cell_type": "code",
   "execution_count": 159,
   "metadata": {},
   "outputs": [],
   "source": [
    "def gabriele(state: Nim) -> Nimply:\n",
    "    \"\"\"Pick always the maximum possible number of the lowest row\"\"\"\n",
    "    possible_moves = [(r, o) for r, c in enumerate(state.rows) for o in range(1, c + 1)]\n",
    "    return Nimply(*max(possible_moves, key=lambda m: (-m[0], m[1])))"
   ]
  },
  {
   "cell_type": "markdown",
   "metadata": {},
   "source": [
    "### P1: Expert Player (same as Professor's)"
   ]
  },
  {
   "cell_type": "code",
   "execution_count": 160,
   "metadata": {},
   "outputs": [],
   "source": [
    "def nim_sum(state: Nim) -> int:\n",
    "    *_, result = accumulate(state.rows, xor)\n",
    "    return result\n",
    "\n",
    "\n",
    "def cook_status(state: Nim,nimSum=False) -> dict:\n",
    "    cooked = dict()\n",
    "    cooked[\"possible_moves\"] = [\n",
    "        (r, o) for r, c in enumerate(state.rows) for o in range(1, c + 1) if state.k is None or o <= state.k\n",
    "    ]\n",
    "    cooked[\"active_rows_number\"] = sum(o > 0 for o in state.rows)\n",
    "    cooked[\"shortest_row\"] = min((x for x in enumerate(state.rows) if x[1] > 0), key=lambda y: y[1])[0]\n",
    "    cooked[\"longest_row\"] = max((x for x in enumerate(state.rows)), key=lambda y: y[1])[0]\n",
    "    if nimSum:\n",
    "        cooked[\"nim_sum\"] = nim_sum(state)\n",
    "\n",
    "        brute_force = list()\n",
    "        for m in cooked[\"possible_moves\"]:\n",
    "            tmp = deepcopy(state)\n",
    "            tmp.nimming(m)\n",
    "            brute_force.append((m, nim_sum(tmp)))\n",
    "        cooked[\"brute_force\"] = brute_force\n",
    "    return cooked"
   ]
  },
  {
   "cell_type": "code",
   "execution_count": 161,
   "metadata": {},
   "outputs": [],
   "source": [
    "def optimal_startegy(state: Nim) -> Nimply:\n",
    "    data = cook_status(state)\n",
    "    return next((bf for bf in data[\"brute_force\"] if bf[1] == 0), random.choice(data[\"brute_force\"]))[0]"
   ]
  },
  {
   "cell_type": "markdown",
   "metadata": {},
   "source": [
    "## Tournament Function"
   ]
  },
  {
   "cell_type": "code",
   "execution_count": 162,
   "metadata": {},
   "outputs": [],
   "source": [
    "NUM_MATCHES = 100\n",
    "NIM_SIZE = 20\n",
    "\n",
    "\n",
    "def evaluate(strategy: Callable,opponent) -> float:\n",
    "    opponent = (strategy, opponent)\n",
    "    won = 0\n",
    "\n",
    "    for m in range(NUM_MATCHES):\n",
    "        nim = Nim(NIM_SIZE)\n",
    "        player = 0\n",
    "        while nim:\n",
    "            ply = opponent[player](nim)\n",
    "            nim.nimming(ply)\n",
    "            player = 1 - player\n",
    "        if player == 1:\n",
    "            won += 1\n",
    "    return won / NUM_MATCHES"
   ]
  },
  {
   "cell_type": "markdown",
   "metadata": {},
   "source": [
    "## P2 -> Evolutionary Alg "
   ]
  },
  {
   "cell_type": "code",
   "execution_count": 163,
   "metadata": {},
   "outputs": [],
   "source": [
    "def make_evolutionary_strategy(genome: dict) -> Callable:\n",
    "    def evolvable(state: Nim) -> Nimply:\n",
    "        data = cook_status(state)\n",
    "\n",
    "        if data[\"active_rows_number\"]==1:\n",
    "            ply=Nimply(data[\"shortest_row\"],state.rows[data[\"shortest_row\"]])\n",
    "            return ply\n",
    "\n",
    "        if random.random() < genome[\"p\"]:\n",
    "            #Take Everything\n",
    "            ply=Nimply(data[\"shortest_row\"],state.rows[data[\"shortest_row\"]])\n",
    "        else:\n",
    "            #Take Everything but 1\n",
    "            rowChoice=random.choice([x[0] for x in enumerate(state.rows) if x[1]!=0])\n",
    "            ply=Nimply(rowChoice,state.rows[rowChoice] if state.rows[rowChoice]==1 else state.rows[rowChoice]-1)\n",
    "        return ply\n",
    "\n",
    "    return evolvable"
   ]
  },
  {
   "cell_type": "code",
   "execution_count": 164,
   "metadata": {},
   "outputs": [],
   "source": [
    "NUM_GEN=100\n",
    "\n",
    "\n",
    "def evolve(strat:Callable,opponent):\n",
    "    genome={\"p\":0.5}\n",
    "    lostMatchesCounter=0\n",
    "    prevWR=evaluate(strat(genome),opponent)  \n",
    "    direction=+0.05\n",
    "    for i in range(NUM_GEN):\n",
    "        sign=(direction/abs(direction)) #current sign of direction + or -\n",
    "\n",
    "        if lostMatchesCounter==0: #if you just made a mistake, double check\n",
    "            genome[\"p\"]+=direction\n",
    "        newStrat=strat(genome)\n",
    "        wr=evaluate(newStrat,opponent)\n",
    "        if(prevWR<=wr):\n",
    "            lostMatchesCounter=0\n",
    "            direction=min(direction*1.2,0.1*sign) #we slowly gain confidence in our direction,\n",
    "            # up to a maximum accelleration of .1\n",
    "        else :\n",
    "            lostMatchesCounter+=1\n",
    "            direction=0.05*sign#reset step to 0.05\n",
    "            if lostMatchesCounter>=2:\n",
    "                direction=-direction #set to flipped sign\n",
    "                lostMatchesCounter=0\n",
    "        \n",
    "        prevWR=wr\n",
    "        print(f\"Round {i+1}: WR:{wr} with P:{genome['p']}\")\n",
    "    return genome\n",
    "\n",
    "    \n",
    "#evolve(make_evolutionary_strategy)"
   ]
  },
  {
   "cell_type": "markdown",
   "metadata": {},
   "source": [
    "## Example match"
   ]
  },
  {
   "cell_type": "code",
   "execution_count": 165,
   "metadata": {},
   "outputs": [
    {
     "name": "stdout",
     "output_type": "stream",
     "text": [
      "Round 1: WR:0.62 with P:0.55\n",
      "Round 2: WR:0.59 with P:0.55\n",
      "Round 3: WR:0.71 with P:0.5\n",
      "Round 4: WR:0.6 with P:0.4\n",
      "Round 5: WR:0.56 with P:0.4\n",
      "Round 6: WR:0.57 with P:0.45\n",
      "Round 7: WR:0.54 with P:0.51\n",
      "Round 8: WR:0.62 with P:0.51\n",
      "Round 9: WR:0.62 with P:0.5700000000000001\n",
      "Round 10: WR:0.56 with P:0.642\n",
      "Round 11: WR:0.47 with P:0.642\n",
      "Round 12: WR:0.61 with P:0.592\n",
      "Round 13: WR:0.63 with P:0.492\n",
      "Round 14: WR:0.54 with P:0.372\n",
      "Round 15: WR:0.62 with P:0.372\n",
      "Round 16: WR:0.68 with P:0.272\n",
      "Round 17: WR:0.59 with P:0.15200000000000002\n",
      "Round 18: WR:0.63 with P:0.15200000000000002\n",
      "Round 19: WR:0.64 with P:0.05200000000000002\n",
      "Round 20: WR:0.61 with P:-0.06799999999999998\n",
      "Round 21: WR:0.65 with P:-0.06799999999999998\n",
      "Round 22: WR:0.62 with P:-0.16799999999999998\n",
      "Round 23: WR:0.65 with P:-0.16799999999999998\n",
      "Round 24: WR:0.6 with P:-0.268\n",
      "Round 25: WR:0.62 with P:-0.268\n",
      "Round 26: WR:0.63 with P:-0.368\n",
      "Round 27: WR:0.63 with P:-0.488\n",
      "Round 28: WR:0.54 with P:-0.632\n",
      "Round 29: WR:0.62 with P:-0.632\n",
      "Round 30: WR:0.63 with P:-0.732\n",
      "Round 31: WR:0.65 with P:-0.852\n",
      "Round 32: WR:0.65 with P:-0.996\n",
      "Round 33: WR:0.53 with P:-1.1688\n",
      "Round 34: WR:0.65 with P:-1.1688\n",
      "Round 35: WR:0.58 with P:-1.2688000000000001\n",
      "Round 36: WR:0.57 with P:-1.2688000000000001\n",
      "Round 37: WR:0.65 with P:-1.2188\n",
      "Round 38: WR:0.6 with P:-1.1588\n",
      "Round 39: WR:0.47 with P:-1.1588\n",
      "Round 40: WR:0.59 with P:-1.2088\n",
      "Round 41: WR:0.61 with P:-1.3088000000000002\n",
      "Round 42: WR:0.55 with P:-1.4288000000000003\n",
      "Round 43: WR:0.5 with P:-1.4288000000000003\n",
      "Round 44: WR:0.59 with P:-1.3788000000000002\n",
      "Round 45: WR:0.64 with P:-1.3188000000000002\n",
      "Round 46: WR:0.7 with P:-1.2468000000000001\n",
      "Round 47: WR:0.61 with P:-1.1604\n",
      "Round 48: WR:0.6 with P:-1.1604\n",
      "Round 49: WR:0.64 with P:-1.2104000000000001\n",
      "Round 50: WR:0.58 with P:-1.3104000000000002\n",
      "Round 51: WR:0.64 with P:-1.3104000000000002\n",
      "Round 52: WR:0.57 with P:-1.4104000000000003\n",
      "Round 53: WR:0.68 with P:-1.4104000000000003\n",
      "Round 54: WR:0.61 with P:-1.5104000000000004\n",
      "Round 55: WR:0.71 with P:-1.5104000000000004\n",
      "Round 56: WR:0.67 with P:-1.6104000000000005\n",
      "Round 57: WR:0.6 with P:-1.6104000000000005\n",
      "Round 58: WR:0.6 with P:-1.5604000000000005\n",
      "Round 59: WR:0.6 with P:-1.5004000000000004\n",
      "Round 60: WR:0.65 with P:-1.4284000000000003\n",
      "Round 61: WR:0.57 with P:-1.3420000000000003\n",
      "Round 62: WR:0.57 with P:-1.3420000000000003\n",
      "Round 63: WR:0.59 with P:-1.2820000000000003\n",
      "Round 64: WR:0.64 with P:-1.2100000000000002\n",
      "Round 65: WR:0.58 with P:-1.1236000000000002\n",
      "Round 66: WR:0.62 with P:-1.1236000000000002\n",
      "Round 67: WR:0.61 with P:-1.0636\n",
      "Round 68: WR:0.64 with P:-1.0636\n",
      "Round 69: WR:0.54 with P:-1.0036\n",
      "Round 70: WR:0.64 with P:-1.0036\n",
      "Round 71: WR:0.59 with P:-0.9436\n",
      "Round 72: WR:0.56 with P:-0.9436\n",
      "Round 73: WR:0.64 with P:-0.9936\n",
      "Round 74: WR:0.63 with P:-1.0936000000000001\n",
      "Round 75: WR:0.58 with P:-1.0936000000000001\n",
      "Round 76: WR:0.65 with P:-1.0436\n",
      "Round 77: WR:0.72 with P:-0.9836\n",
      "Round 78: WR:0.6 with P:-0.9116000000000001\n",
      "Round 79: WR:0.59 with P:-0.9116000000000001\n",
      "Round 80: WR:0.64 with P:-0.9616000000000001\n",
      "Round 81: WR:0.7 with P:-1.0616\n",
      "Round 82: WR:0.66 with P:-1.1816\n",
      "Round 83: WR:0.55 with P:-1.1816\n",
      "Round 84: WR:0.62 with P:-1.1316\n",
      "Round 85: WR:0.53 with P:-1.0715999999999999\n",
      "Round 86: WR:0.58 with P:-1.0715999999999999\n",
      "Round 87: WR:0.59 with P:-1.0115999999999998\n",
      "Round 88: WR:0.56 with P:-0.9395999999999999\n",
      "Round 89: WR:0.6 with P:-0.9395999999999999\n",
      "Round 90: WR:0.58 with P:-0.8795999999999999\n",
      "Round 91: WR:0.63 with P:-0.8795999999999999\n",
      "Round 92: WR:0.63 with P:-0.8195999999999999\n",
      "Round 93: WR:0.63 with P:-0.7475999999999999\n",
      "Round 94: WR:0.59 with P:-0.6611999999999999\n",
      "Round 95: WR:0.7 with P:-0.6611999999999999\n",
      "Round 96: WR:0.62 with P:-0.6012\n",
      "Round 97: WR:0.64 with P:-0.6012\n",
      "Round 98: WR:0.59 with P:-0.5411999999999999\n",
      "Round 99: WR:0.59 with P:-0.5411999999999999\n"
     ]
    },
    {
     "name": "stderr",
     "output_type": "stream",
     "text": [
      "DEBUG:root:status: Initial board  -> <1 3 5 7 9 11 13 15 17 19>\n",
      "DEBUG:root:status: After player 0 -> <1 3 5 7 9 11 1 15 17 19>\n",
      "DEBUG:root:status: After player 1 -> <0 3 5 7 9 11 1 15 17 19>\n",
      "DEBUG:root:status: After player 0 -> <0 1 5 7 9 11 1 15 17 19>\n",
      "DEBUG:root:status: After player 1 -> <0 0 5 7 9 11 1 15 17 19>\n",
      "DEBUG:root:status: After player 0 -> <0 0 1 7 9 11 1 15 17 19>\n",
      "DEBUG:root:status: After player 1 -> <0 0 0 7 9 11 1 15 17 19>\n",
      "DEBUG:root:status: After player 0 -> <0 0 0 7 9 11 0 15 17 19>\n",
      "DEBUG:root:status: After player 1 -> <0 0 0 0 9 11 0 15 17 19>\n",
      "DEBUG:root:status: After player 0 -> <0 0 0 0 9 1 0 15 17 19>\n",
      "DEBUG:root:status: After player 1 -> <0 0 0 0 0 1 0 15 17 19>\n",
      "DEBUG:root:status: After player 0 -> <0 0 0 0 0 1 0 15 17 1>\n",
      "DEBUG:root:status: After player 1 -> <0 0 0 0 0 0 0 15 17 1>\n",
      "DEBUG:root:status: After player 0 -> <0 0 0 0 0 0 0 1 17 1>\n",
      "DEBUG:root:status: After player 1 -> <0 0 0 0 0 0 0 0 17 1>\n",
      "DEBUG:root:status: After player 0 -> <0 0 0 0 0 0 0 0 1 1>\n",
      "DEBUG:root:status: After player 1 -> <0 0 0 0 0 0 0 0 0 1>\n",
      "DEBUG:root:status: After player 0 -> <0 0 0 0 0 0 0 0 0 0>\n",
      "INFO:root:status: Player 0 won!\n"
     ]
    },
    {
     "name": "stdout",
     "output_type": "stream",
     "text": [
      "Round 100: WR:0.59 with P:-0.4811999999999999\n"
     ]
    }
   ],
   "source": [
    "logging.getLogger().setLevel(logging.DEBUG)\n",
    "#find the optimal p for the matchup\n",
    "strategy = (make_evolutionary_strategy(evolve\n",
    "(make_evolutionary_strategy,gabriele)), gabriele)\n",
    "#play the \"real\" game\n",
    "nim = Nim(10)\n",
    "logging.debug(f\"status: Initial board  -> {nim}\")\n",
    "player = 0\n",
    "while nim:\n",
    "    ply = strategy[player](nim)\n",
    "    nim.nimming(ply)\n",
    "    logging.debug(f\"status: After player {player} -> {nim}\")\n",
    "    player = 1 - player\n",
    "winner = 1 - player\n",
    "logging.info(f\"status: Player {winner} won!\")"
   ]
  }
 ],
 "metadata": {
  "kernelspec": {
   "display_name": "Python 3.10.8 ('.venv': poetry)",
   "language": "python",
   "name": "python3"
  },
  "language_info": {
   "codemirror_mode": {
    "name": "ipython",
    "version": 3
   },
   "file_extension": ".py",
   "mimetype": "text/x-python",
   "name": "python",
   "nbconvert_exporter": "python",
   "pygments_lexer": "ipython3",
   "version": "3.10.8"
  },
  "vscode": {
   "interpreter": {
    "hash": "55ba9e9f377da4b122898c7da5dc65f5811df1165b58878575aa29f7eca42830"
   }
  }
 },
 "nbformat": 4,
 "nbformat_minor": 2
}
