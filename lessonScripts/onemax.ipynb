{
 "cells": [
  {
   "cell_type": "code",
   "execution_count": 2,
   "metadata": {},
   "outputs": [],
   "source": [
    "PROBLEM_SIZE= 10\n",
    "POPULATION_SIZE=30\n",
    "OFFSPRING_SIZE=20"
   ]
  },
  {
   "cell_type": "code",
   "execution_count": 3,
   "metadata": {},
   "outputs": [],
   "source": [
    "def onemax(genome):\n",
    "    return sum(genome)"
   ]
  },
  {
   "cell_type": "code",
   "execution_count": 4,
   "metadata": {},
   "outputs": [
    {
     "ename": "AttributeError",
     "evalue": "'builtin_function_or_method' object has no attribute 'choice'",
     "output_type": "error",
     "traceback": [
      "\u001b[0;31m---------------------------------------------------------------------------\u001b[0m",
      "\u001b[0;31mAttributeError\u001b[0m                            Traceback (most recent call last)",
      "Cell \u001b[0;32mIn [4], line 4\u001b[0m\n\u001b[1;32m      1\u001b[0m \u001b[39mfrom\u001b[39;00m \u001b[39mrandom\u001b[39;00m \u001b[39mimport\u001b[39;00m random\n\u001b[0;32m----> 4\u001b[0m genome\u001b[39m=\u001b[39m[\u001b[39mtuple\u001b[39m([random\u001b[39m.\u001b[39mchoice([\u001b[39m1\u001b[39m,\u001b[39m0\u001b[39m]) \u001b[39mfor\u001b[39;00m _ \u001b[39min\u001b[39;00m \u001b[39mrange\u001b[39m(PROBLEM_SIZE)]) \u001b[39mfor\u001b[39;00m _ \u001b[39min\u001b[39;00m \u001b[39mrange\u001b[39m(POPULATION_SIZE)]\n",
      "Cell \u001b[0;32mIn [4], line 4\u001b[0m, in \u001b[0;36m<listcomp>\u001b[0;34m(.0)\u001b[0m\n\u001b[1;32m      1\u001b[0m \u001b[39mfrom\u001b[39;00m \u001b[39mrandom\u001b[39;00m \u001b[39mimport\u001b[39;00m random\n\u001b[0;32m----> 4\u001b[0m genome\u001b[39m=\u001b[39m[\u001b[39mtuple\u001b[39m([random\u001b[39m.\u001b[39mchoice([\u001b[39m1\u001b[39m,\u001b[39m0\u001b[39m]) \u001b[39mfor\u001b[39;00m _ \u001b[39min\u001b[39;00m \u001b[39mrange\u001b[39m(PROBLEM_SIZE)]) \u001b[39mfor\u001b[39;00m _ \u001b[39min\u001b[39;00m \u001b[39mrange\u001b[39m(POPULATION_SIZE)]\n",
      "Cell \u001b[0;32mIn [4], line 4\u001b[0m, in \u001b[0;36m<listcomp>\u001b[0;34m(.0)\u001b[0m\n\u001b[1;32m      1\u001b[0m \u001b[39mfrom\u001b[39;00m \u001b[39mrandom\u001b[39;00m \u001b[39mimport\u001b[39;00m random\n\u001b[0;32m----> 4\u001b[0m genome\u001b[39m=\u001b[39m[\u001b[39mtuple\u001b[39m([random\u001b[39m.\u001b[39;49mchoice([\u001b[39m1\u001b[39m,\u001b[39m0\u001b[39m]) \u001b[39mfor\u001b[39;00m _ \u001b[39min\u001b[39;00m \u001b[39mrange\u001b[39m(PROBLEM_SIZE)]) \u001b[39mfor\u001b[39;00m _ \u001b[39min\u001b[39;00m \u001b[39mrange\u001b[39m(POPULATION_SIZE)]\n",
      "\u001b[0;31mAttributeError\u001b[0m: 'builtin_function_or_method' object has no attribute 'choice'"
     ]
    }
   ],
   "source": [
    "import random as rnd\n",
    "population=list()\n",
    "\n",
    "for genome in [tuple([rnd.choice([1,0]) for _ in range(PROBLEM_SIZE)]) for _ in range(POPULATION_SIZE)]:\n",
    "    population.append((genome,onemax(genome)))"
   ]
  }
 ],
 "metadata": {
  "kernelspec": {
   "display_name": "Python 3.10.7 ('.venv': poetry)",
   "language": "python",
   "name": "python3"
  },
  "language_info": {
   "codemirror_mode": {
    "name": "ipython",
    "version": 3
   },
   "file_extension": ".py",
   "mimetype": "text/x-python",
   "name": "python",
   "nbconvert_exporter": "python",
   "pygments_lexer": "ipython3",
   "version": "3.10.7"
  },
  "orig_nbformat": 4,
  "vscode": {
   "interpreter": {
    "hash": "55ba9e9f377da4b122898c7da5dc65f5811df1165b58878575aa29f7eca42830"
   }
  }
 },
 "nbformat": 4,
 "nbformat_minor": 2
}
